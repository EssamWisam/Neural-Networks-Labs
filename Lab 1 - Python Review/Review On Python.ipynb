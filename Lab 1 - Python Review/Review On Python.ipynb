{
  "cells": [
    {
      "cell_type": "markdown",
      "metadata": {
        "id": "EkePE7SXnZeF"
      },
      "source": [
        "# Python Crash Course"
      ]
    },
    {
      "cell_type": "markdown",
      "metadata": {
        "id": "8nL0PbISnZeG"
      },
      "source": [
        "## Table of Contents\n",
        "\n",
        "- **Introduction**\n",
        "    - [What is Python?](#What-is-Python)\n",
        "    - [Why do we use Python?](#Why-use-Python)\n",
        "\n",
        "- **Python Review**\n",
        "    - [Variables](#Variables)\n",
        "    - [Input/Output](#Input/Output)\n",
        "    - Operators \n",
        "        - [Arithmatic Operators](#1.-Arithmatic-Operators)\n",
        "        - [Relational Operators](#2.-Relational-Operators)\n",
        "        - [Logical Operators](#3.-Logical-Operators)\n",
        "    - DataTypes\n",
        "    - Containers\n",
        "        - [Lists](#Lists)\n",
        "        - [Tuples](#Tuples)\n",
        "        - [Sets](#Sets)\n",
        "        - [Dictionaries](#Dictionaries)\n",
        "        - [Identity Operator and Aliasing](#Identity-Operator-and-Aliasing)\n",
        "        - [Special Operator '+' and '+=' on Lists and Tuples](#Special-Operator-'+'-and-'+='-on-Lists-and-Tuples)\n",
        "        \n",
        "    - Flow Control Statements\n",
        "        - [If Statements](#If-Statement)\n",
        "        - [For Loop](#For-Loop)\n",
        "        - [While Loop](#While-Loops)\n",
        "        - [List Comprehension](#List-Comprehension)\n",
        "       \n",
        "    - Functions\n",
        "        - [Functions](#Functions)\n",
        "        - [Lambda Functions](#Lambda-Functions)\n",
        "    - [Exception Handling](#Exception-Handling)\n",
        "- **Advanced Python**\n",
        "    - Object Oriented Programming\n",
        "        - [Classes](#Classes:)\n",
        "        - [Inheritance and Polymorphic Behavior](#Inheritance-and-Polymorphic-Behavior)\n",
        "    - [File IO](#File-IO)\n",
        "- **Numpy**\n",
        "    - [How to use NumPy](#How-to-use-numpy)\n",
        "    - [Arrays in NumPy](#Arrays-in-NumPy)\n",
        "    - [Matrix Operations](#Matrix-Operations-in-NumPy)\n",
        "    - [Broadcasting](#Broadcasting-in-NumPy)\n",
        "    - [Masked Indexing](#Masked-Indexing)\n",
        "    - [Aggregation](#Aggregation)\n",
        "- **Pandas**\n",
        "    - [Reading Data Files](#Reading-Data-Files-in-Pandas)\n",
        "    - [Indexing in Pandas](#Indexing-in-Pandas)\n",
        "- [NumPy and Pandas Requirement](#Requirement-on-NumPy)\n",
        "\n",
        "- **MatPlot Lib**\n",
        "    - [Line Plots](#Line-Plots)\n",
        "    - [Scatter Plots](#Scatter-Plots)\n",
        "    - [Histogram Plots](#Histogram-Plots)\n",
        "    - [Pie Charts](#Pie-Charts)\n",
        "    - [Multiple Plots on the Same Figure](#Multiple-Plots-on-the-Same-Figure)\n",
        "    - [Plotting Requirement](#Requirement-on-MatPlotLib)\n"
      ]
    },
    {
      "cell_type": "markdown",
      "metadata": {
        "id": "Vkxvn1-PnZeG"
      },
      "source": [
        "### What is Python?"
      ]
    },
    {
      "cell_type": "markdown",
      "metadata": {
        "id": "Z-tSSrp7nZeH"
      },
      "source": [
        "Python is the most popular high-level programming language to our time. It is popular for its wide range of applications in web development and machine learning, with a special advantage in scripting and demoing. As you will see later in the lab, it takes a few lines to implement complex programs. \n",
        "\n",
        "Unlike most programming languages that you may have worked with, Python is an **interpreted language** and not a compiled one. This means means that a python file is executed line by line from top to down. If a line contains error(s), execution will stop at this line. \n",
        "\n",
        "Despite this fact, Python is flexible enough to write **object oriented programs** as well as **procedural (also knwon as functional) programs**. We will discuss when to use each as a best practice later in this lab. "
      ]
    },
    {
      "cell_type": "markdown",
      "metadata": {
        "id": "As_0m1dPnZeJ"
      },
      "source": [
        "### Why do we use Python?\n",
        "Python is probably the largest open-source programming language in the world. This means there is nothing you will need that is not  available in Python on the internet. \n",
        "\n",
        "Development time in python is faster than any other language: usually what people do in large companies is simply quick demos (prototyping) using python until they are satisfied with the results, then implement in other languages for better performance or system requirements. \n",
        "\n",
        "Python skills is a necessity for all students in computer science and engineering. Regardless the field you will work in, you will probably use Python."
      ]
    },
    {
      "cell_type": "markdown",
      "metadata": {
        "id": "CIqWQmIknZeJ"
      },
      "source": [
        "---------------------"
      ]
    },
    {
      "cell_type": "markdown",
      "metadata": {
        "id": "UNTAUhNfnZeK"
      },
      "source": [
        "# Python Review"
      ]
    },
    {
      "cell_type": "markdown",
      "metadata": {
        "id": "pNVdPrjAnZeQ"
      },
      "source": [
        "In order to check if a variable is of specific data type, we use the function isinstance(variable, data type)"
      ]
    },
    {
      "cell_type": "code",
      "execution_count": 68,
      "metadata": {
        "id": "8wXgBEI7nZeR"
      },
      "outputs": [
        {
          "name": "stdout",
          "output_type": "stream",
          "text": [
            "True\n",
            "False\n"
          ]
        }
      ],
      "source": [
        "## for example\n",
        "integer_var = 5\n",
        "print(isinstance(integer_var,int)) ## returns True\n",
        "print(isinstance(integer_var, bool)) ## returns False"
      ]
    },
    {
      "cell_type": "markdown",
      "metadata": {
        "id": "1Lh0PUqonZeV"
      },
      "source": [
        "Like the NULL value in other programming languages, Python uses the 'None' keyword to mark unknown values for variables"
      ]
    },
    {
      "cell_type": "code",
      "execution_count": 69,
      "metadata": {
        "id": "eTjtRsrGnZeV"
      },
      "outputs": [
        {
          "name": "stdout",
          "output_type": "stream",
          "text": [
            "<class 'NoneType'>\n"
          ]
        }
      ],
      "source": [
        "unknown_variable = None\n",
        "print(type(unknown_variable))"
      ]
    },
    {
      "cell_type": "code",
      "execution_count": 70,
      "metadata": {
        "id": "NiOqCZRUnZeZ",
        "scrolled": true
      },
      "outputs": [
        {
          "name": "stdout",
          "output_type": "stream",
          "text": [
            "False\n",
            "True\n"
          ]
        }
      ],
      "source": [
        "## we can check on its type as well\n",
        "print(isinstance(unknown_variable, int)) ## returns False\n",
        "\n",
        "## But to check if a variable is none, we use the identity operator 'is'\n",
        "print(unknown_variable is None) ## returns True"
      ]
    },
    {
      "cell_type": "markdown",
      "metadata": {
        "id": "6U7hhqvznZed"
      },
      "source": [
        "---------------------"
      ]
    },
    {
      "cell_type": "markdown",
      "metadata": {
        "id": "Gc2nzeXVnZed"
      },
      "source": [
        "## Input/Output"
      ]
    },
    {
      "cell_type": "markdown",
      "metadata": {
        "id": "YSoKYYU5nZee"
      },
      "source": [
        "In order to output any data to screen, you only need to use the function \"print()\".\n",
        "The function allows you to control the output format in a very flexible way. "
      ]
    },
    {
      "cell_type": "code",
      "execution_count": 71,
      "metadata": {
        "id": "reSKGqLUnZem"
      },
      "outputs": [
        {
          "name": "stdout",
          "output_type": "stream",
          "text": [
            "I can count from 1->10\n",
            "This lab is legen-wait for it-dary\n"
          ]
        }
      ],
      "source": [
        "## a special parameter to the 'print' function is called \"sep\" which is used to separate the objects to be printed\n",
        "## see how we use arrows ->\n",
        "print(\"I can count from 1\", \"10\", sep='->')\n",
        "## and this one uses hyphens\n",
        "print(\"This lab is legen\", \"wait for it\", \"dary\", sep=\"-\")\n",
        "\n",
        "## remember: the default separator is blank space ' '"
      ]
    },
    {
      "cell_type": "markdown",
      "metadata": {
        "id": "Lm19EyNnnZet"
      },
      "source": [
        "**IMPORTANT NOTE** the input function always returns values as **STRINGS**, you will see later how to cast these to other types "
      ]
    },
    {
      "cell_type": "markdown",
      "metadata": {
        "id": "nO-3r1lYnZeu"
      },
      "source": [
        "---------------------"
      ]
    },
    {
      "cell_type": "markdown",
      "metadata": {
        "id": "F412hBTQnZeu"
      },
      "source": [
        "## Operators\n",
        "Like all programming languages, Operators in Python are categoriezed into Arithmatic, Relational and Logical operators. We will discuss them all in details here.\n",
        "\n",
        "### 1. Arithmatic Operators\n",
        "Arithmetic operators are used to perform mathematical operations like addition, subtraction, multiplication and division"
      ]
    },
    {
      "cell_type": "code",
      "execution_count": 72,
      "metadata": {
        "id": "oXXOjiRBnZfA"
      },
      "outputs": [
        {
          "name": "stdout",
          "output_type": "stream",
          "text": [
            "2\n"
          ]
        }
      ],
      "source": [
        "## The operator x//y returns the integer floor value of dividing x by y (exactly what the division algorithm needs)\n",
        "print(5//2) ## returns 2\n",
        "\n"
      ]
    },
    {
      "cell_type": "markdown",
      "metadata": {
        "id": "Q3cw3rNenZfD"
      },
      "source": [
        "### 2. Relational Operators\n",
        "Relational operators compares the values of the operands"
      ]
    },
    {
      "cell_type": "markdown",
      "metadata": {
        "id": "NuNszhzrnZfG"
      },
      "source": [
        "### 3. Logical Operators"
      ]
    },
    {
      "cell_type": "code",
      "execution_count": 73,
      "metadata": {
        "id": "kaCGE_ftnZfH"
      },
      "outputs": [
        {
          "name": "stdout",
          "output_type": "stream",
          "text": [
            "False\n",
            "True\n",
            "False\n"
          ]
        }
      ],
      "source": [
        "condition_1 = True\n",
        "condition_2 = False\n",
        "print(condition_1 and condition_2) ## Logic AND of condition 1 and condition 2\n",
        "print(condition_1 or codition_2) ## Logic OR of condition 1 and condition 2\n",
        "print(not condition_1) ## Logic NOT of condition 1 (! can be only used for !=)"
      ]
    },
    {
      "cell_type": "markdown",
      "metadata": {
        "id": "nGmOfGgJnZfM"
      },
      "source": [
        "---------------------"
      ]
    },
    {
      "cell_type": "markdown",
      "metadata": {
        "id": "PNMErINqnZfN"
      },
      "source": [
        "---------------------"
      ]
    },
    {
      "cell_type": "markdown",
      "metadata": {
        "id": "cZGmBH_LnZfO"
      },
      "source": [
        "## Containers\n",
        "Python also contains Containers that associate multiple values like:\n",
        "- Lists\n",
        "- Tuples\n",
        "- Sets\n",
        "- Dictionaries\n",
        "\n",
        "### Lists\n",
        "Lists in python are like dynamic sized arrays. Lists are denoted by the square brackets [ ] where entries in list are separated by commas."
      ]
    },
    {
      "cell_type": "markdown",
      "metadata": {
        "id": "T98K8I_DnZfR"
      },
      "source": [
        "Unlike most programming languages, Lists in python can contain variables of different types"
      ]
    },
    {
      "cell_type": "code",
      "execution_count": 74,
      "metadata": {
        "id": "lPv3egFHnZfi"
      },
      "outputs": [
        {
          "name": "stdout",
          "output_type": "stream",
          "text": [
            "[3, 4, 5]\n"
          ]
        }
      ],
      "source": [
        "sample_list = [1, 2, 3, 4, 5, 6, 7, 8, 9, 10]\n",
        "\n",
        "## access the 3rd, 4th and the 5th elements (counting from 0), we start from index 2 to index 5 (not index 4)\n",
        "sublist = sample_list[2:5]\n",
        "print(sublist)\n",
        "\n",
        "sample_list = [1, 2, 3, 4, 5, 6, 7, 8, 9, 10]\n",
        "\n",
        "## Remember: we do NOT know the length of the list\n",
        "from_seventh_element = sample_list[6:] ## similar to sample_list[6:len(sample_list)]"
      ]
    },
    {
      "cell_type": "code",
      "execution_count": 75,
      "metadata": {
        "id": "cxPw9-WwnZfq"
      },
      "outputs": [
        {
          "name": "stdout",
          "output_type": "stream",
          "text": [
            "[8, 9, 10]\n"
          ]
        }
      ],
      "source": [
        "#### TEST YOURSELF ####\n",
        "## write One line to get the last 3 elements from the list\n",
        "## HINT: Combine sub-list indexing and the negative indices concepts we just revised\n",
        "sample_list = [1, 2, 3, 4, 5, 6, 7, 8, 9, 10]\n",
        "last_three_elements = sample_list[-3:]\n",
        "print(last_three_elements)"
      ]
    },
    {
      "cell_type": "code",
      "execution_count": 76,
      "metadata": {
        "id": "CeBaZDdwnZfu"
      },
      "outputs": [
        {
          "name": "stdout",
          "output_type": "stream",
          "text": [
            "[1, 3, 5]\n"
          ]
        }
      ],
      "source": [
        "## can uniformly sample form the list.\n",
        "\n",
        "## for example, we can get elements at even indices up to the fifth element\n",
        "even_indices_elements = sample_list[0:5:2]\n",
        "print(even_indices_elements)"
      ]
    },
    {
      "cell_type": "markdown",
      "metadata": {
        "id": "iWvAnAZunZfx"
      },
      "source": [
        "### Tuples"
      ]
    },
    {
      "cell_type": "markdown",
      "metadata": {
        "id": "5ppZNTyCnZfx"
      },
      "source": [
        "Tuples are exactly like lists in python, the **ONLY difference** is that tuples are **immutable** but lists are **mutable**\n",
        "\n",
        "Immutable means: we cannot modify tuples once they are created: you cannot change elements, delete from them or add to the tuple. \n",
        "\n",
        "However, we can let the variable containing the tuple be anything else (e.g. another tuple)\n",
        "\n",
        "Tuples are denoted by round brackets '()'."
      ]
    },
    {
      "cell_type": "markdown",
      "metadata": {
        "id": "EJIAajZcnZf0"
      },
      "source": [
        "**NOTE** Make sure you understand that in the previous example, tuple_example is a VARIABLE, we can re-assign anything to it. However, when it is of type Tuple, we cannot assign to the **ELEMENTS** of the tuple.\n",
        "\n",
        "Indexing tuples is exactly like the lists"
      ]
    },
    {
      "cell_type": "code",
      "execution_count": 77,
      "metadata": {
        "id": "4jg2oFZLnZf1"
      },
      "outputs": [
        {
          "name": "stdout",
          "output_type": "stream",
          "text": [
            "('Tomato', 'Potato')\n"
          ]
        }
      ],
      "source": [
        "## indexing sub-tuple from tuples\n",
        "vegetables_tuple = (\"Tomato\", \"Potato\", \"Cucumber\", \"Carrots\", \"Eggplants\")\n",
        "\n",
        "first_two_elements_tuple = vegetables_tuple[:2] ## creates a sub-tuple  of the first two elements\n",
        "print(first_two_elements_tuple) "
      ]
    },
    {
      "cell_type": "markdown",
      "metadata": {
        "id": "jAIgWoolnZf4"
      },
      "source": [
        "We can cast lists into tuples and vise versa"
      ]
    },
    {
      "cell_type": "code",
      "execution_count": 78,
      "metadata": {
        "id": "F3F3s5LEnZf4"
      },
      "outputs": [
        {
          "name": "stdout",
          "output_type": "stream",
          "text": [
            "<class 'tuple'>\n",
            "<class 'list'>\n"
          ]
        }
      ],
      "source": [
        "sample_list = [1, 2, 3, 4, 5, 6, 7, 8, 9, 10]\n",
        "tuple_from_list = tuple(sample_list)\n",
        "print(type(tuple_from_list)) ## it is of class tuple\n",
        "\n",
        "## and the other way round\n",
        "vegetables_tuple = (\"Tomato\", \"Potato\", \"Cucumber\", \"Carrots\", \"Eggplants\")\n",
        "list_from_tuple = list(vegetables_tuple)\n",
        "print(type(list_from_tuple)) ## it is of class list"
      ]
    },
    {
      "cell_type": "markdown",
      "metadata": {
        "id": "kSfzfaFZnZf7"
      },
      "source": [
        "**IMPORTANT** If tuples and lists are necissarily the same, why do we need tuples? Because:\n",
        "\n",
        "Since tuples are immutable (cannot be changed) they are saved in memory as one chunck of data. This makes it faster in access time and more memory efficient (certain compression techniques are used over tuples on byte level).\n",
        "\n",
        "##### When to use Tuples over lists:\n",
        "* When you have a fixed element list (for example: languages that your program support are English, French or Arabic) it is more efficient to save the list of accepted languages in a tuple.\n",
        "* When you want to prevent the change of the elements of the list resulting from a certain function (for example, a function returns the acceptable values in your program, it is more safe to return them in tuple instead of list so that callers of this function do not mistakenly change these values).\n"
      ]
    },
    {
      "cell_type": "markdown",
      "metadata": {
        "id": "0RdZoXlxnZf9"
      },
      "source": [
        "### Sets\n",
        "Sets are special type of lists where all elements are **Unique**, they are denoted by curly parentheses '{}'"
      ]
    },
    {
      "cell_type": "code",
      "execution_count": 79,
      "metadata": {
        "id": "_zn9_AJnnZf9"
      },
      "outputs": [
        {
          "name": "stdout",
          "output_type": "stream",
          "text": [
            "[1, 1, 2, 2, 3, 3]\n",
            "{1, 2, 3}\n"
          ]
        }
      ],
      "source": [
        "### Notice the difference\n",
        "non_unique_list = [1, 1, 2, 2, 3, 3]\n",
        "print(non_unique_list)\n",
        "\n",
        "unique_set = {1, 1, 2, 2, 3, 3}\n",
        "print(unique_set)"
      ]
    },
    {
      "cell_type": "code",
      "execution_count": 80,
      "metadata": {
        "id": "0zn0N7xsnZgA"
      },
      "outputs": [
        {
          "name": "stdout",
          "output_type": "stream",
          "text": [
            "{1, 2, 3}\n"
          ]
        }
      ],
      "source": [
        "### you can cast the list into set\n",
        "non_unique_list = [1, 1, 2, 2, 3, 3]\n",
        "unique_elements_from_list = set(non_unique_list)\n",
        "print(unique_elements_from_list)"
      ]
    },
    {
      "cell_type": "markdown",
      "metadata": {
        "id": "9G2tq0LenZgC"
      },
      "source": [
        "### Dictionaries\n",
        "Dictionaries are **Sets** of key-value pairs, where each key is associated by a pair. they are denoted also by the curly parentheses { key: value}, and elements are indexed by the keys, e.g. dictionary[key], or the get(key) function."
      ]
    },
    {
      "cell_type": "code",
      "execution_count": 81,
      "metadata": {
        "id": "yeG4w_SBnZgD"
      },
      "outputs": [
        {
          "name": "stdout",
          "output_type": "stream",
          "text": [
            "Apple\n"
          ]
        }
      ],
      "source": [
        "dictionary = {'a': 'Apple', 'b': 'Banana', 'c': 'Cat', 'd': 'Dog'}\n",
        "print(dictionary['a'])"
      ]
    },
    {
      "cell_type": "markdown",
      "metadata": {
        "id": "Ft2ujtKvnZgG"
      },
      "source": [
        "**IMPORTANT** keys do not need to be of the same type, but they need to be **IMMUTABLE**. Also values can be of any data type."
      ]
    },
    {
      "cell_type": "code",
      "execution_count": 82,
      "metadata": {
        "id": "kHG2ifcNnZgG",
        "scrolled": true
      },
      "outputs": [
        {
          "name": "stdout",
          "output_type": "stream",
          "text": [
            "['Sherlock', 'Lucifer', 'Elite']\n"
          ]
        }
      ],
      "source": [
        "different_keys_dictionary = { \n",
        "    'a': True, \n",
        "    23: \"Is My Age\", \n",
        "    ('Series', 'Netflix List') : ['Sherlock', 'Lucifer', 'Elite'],\n",
        "}\n",
        "\n",
        "series_i_like = different_keys_dictionary[('Series', 'Netflix List')]\n",
        "print(series_i_like)\n"
      ]
    },
    {
      "cell_type": "markdown",
      "metadata": {
        "id": "wyM8Q8o-nZgJ"
      },
      "source": [
        "---------------------"
      ]
    },
    {
      "cell_type": "markdown",
      "metadata": {
        "id": "1SXmp4WbnZgJ"
      },
      "source": [
        "### Test Yourself:\n",
        "What do you think will happen if we switched the list and the tuple from the last example:\n",
        "\n",
        "i.e. if we make a dictionary: dic = {['Series', 'Netflix List']: ('Sherlock', 'Lucifer')}? \n",
        "\n",
        "**Justify your answer.**\n",
        "\n",
        "*Hint: Remember keys must be immutable.*\n",
        "\n",
        "**Note: Add a cell here answering these questions as mark-up text.**"
      ]
    },
    {
      "cell_type": "markdown",
      "metadata": {},
      "source": [
        "Lists are not immutable but the key is expected to be immutable so we get an error."
      ]
    },
    {
      "cell_type": "markdown",
      "metadata": {
        "id": "rEyn7iCGnZgL"
      },
      "source": [
        "---------------------"
      ]
    },
    {
      "cell_type": "markdown",
      "metadata": {
        "id": "xTnWEvsknZgL"
      },
      "source": [
        "### Identity Operator and Aliasing\n",
        "Now that we know the containers objects in Python, a very important concept you need to know is the Identity operator 'is'.\n",
        "\n",
        "Variables in python are all passed by **Reference**, that is: variables point to the location in memory where the value(s) is(are) stored.\n",
        "\n",
        "So a program like this:\n",
        "\n",
        "X = 5\n",
        "\n",
        "Y = X\n",
        "\n",
        "will create two reference (X and Y) that both point to the location of value 5 in memory, but will not copy the value 5 from X to Y.\n",
        "\n",
        "**Notice** in the next example: we change the value of the second index of Y, but X still changes!"
      ]
    },
    {
      "cell_type": "code",
      "execution_count": 83,
      "metadata": {
        "id": "EvE9B6WwnZgM"
      },
      "outputs": [
        {
          "name": "stdout",
          "output_type": "stream",
          "text": [
            "X is changed into:  [5, True, 7]\n"
          ]
        }
      ],
      "source": [
        "#Mathematically coherent. \n",
        "X = [5, 6, 7]\n",
        "Y = X\n",
        "Y[1] = True ## we change in Y\n",
        "\n",
        "print('X is changed into: ', X)"
      ]
    },
    {
      "cell_type": "markdown",
      "metadata": {
        "id": "oa37u__YnZgQ"
      },
      "source": [
        "The **equality** operator checks if the **Values** of both variables are the same! but the **Identity** operator checks if they both point to the **same memory location**."
      ]
    },
    {
      "cell_type": "code",
      "execution_count": 84,
      "metadata": {
        "id": "sYIZ_hcynZgU"
      },
      "outputs": [
        {
          "name": "stdout",
          "output_type": "stream",
          "text": [
            "Are X and Y of the same values?  True\n",
            "Are X and Y of the same memory location?  False\n"
          ]
        }
      ],
      "source": [
        "X = [5, 6, 7]\n",
        "Y = [5, 6, 7]\n",
        "\n",
        "print('Are X and Y of the same values? ', Y == X) ## YEP\n",
        "print('Are X and Y of the same memory location? ', Y is X) ## NOPE"
      ]
    },
    {
      "cell_type": "markdown",
      "metadata": {
        "id": "l4xwOK97nZgY"
      },
      "source": [
        "**Pay Attention** because this common pitfall in python can cause serious errors in your program. \n",
        "\n",
        "So how can i copy the values of a variable into another? \n",
        "\n",
        "Use the copy library from python:"
      ]
    },
    {
      "cell_type": "code",
      "execution_count": 85,
      "metadata": {
        "id": "tKZ2n_scnZgZ"
      },
      "outputs": [
        {
          "name": "stdout",
          "output_type": "stream",
          "text": [
            "Are X and Y of the same values?  True\n",
            "Are X and Y of the same memory location?  False\n"
          ]
        }
      ],
      "source": [
        "import copy ## this means we import the code from library called 'copy' into our workspace\n",
        "X = [1, 2, 3]\n",
        "Y = copy.deepcopy(X)\n",
        "\n",
        "print('Are X and Y of the same values? ', Y == X) ## YEP\n",
        "print('Are X and Y of the same memory location? ', Y is X) ## NOPE"
      ]
    },
    {
      "cell_type": "markdown",
      "metadata": {
        "id": "Kd7ecv20nZgc"
      },
      "source": [
        "### Special Operator '+' and '+=' on Lists and Tuples\n",
        "It concatenates the containers values."
      ]
    },
    {
      "cell_type": "code",
      "execution_count": 86,
      "metadata": {
        "id": "orYp_LBJnZgg"
      },
      "outputs": [
        {
          "name": "stdout",
          "output_type": "stream",
          "text": [
            "(1, 2, 3, 4, 5, 6)\n",
            "(1, 2, 3, 4, 5, 6)\n"
          ]
        }
      ],
      "source": [
        "### concatenate two tuples:\n",
        "tuple1 = (1, 2, 3)\n",
        "tuple2 = (4, 5, 6)\n",
        "\n",
        "concatenated_tuples = tuple1 + tuple2\n",
        "print(concatenated_tuples)\n",
        "\n",
        "## we self-append tuple 2 to tuple 1\n",
        "tuple1 += tuple2\n",
        "print(tuple1)\n",
        "\n",
        "#We didn't really violate immutability or anything (tuple1 = tuple1 + tuple2) we can always change what the variable containts (here with another tuple)"
      ]
    },
    {
      "cell_type": "markdown",
      "metadata": {
        "id": "nuHYQMSPnZgj"
      },
      "source": [
        "---------------------"
      ]
    },
    {
      "cell_type": "markdown",
      "metadata": {
        "id": "ZeTz_kKunZgk"
      },
      "source": [
        "## Flow Control Statemets\n",
        "\n"
      ]
    },
    {
      "cell_type": "markdown",
      "metadata": {
        "id": "d73jpCt9nZhH"
      },
      "source": [
        "### List Comprehension\n",
        "Python provides a cool compact way to generate lists using the syntax:\n",
        "\n",
        "[ f(x) `for` x `in` iterable ]"
      ]
    },
    {
      "cell_type": "code",
      "execution_count": 87,
      "metadata": {
        "id": "B0IyVNtinZhK"
      },
      "outputs": [
        {
          "name": "stdout",
          "output_type": "stream",
          "text": [
            "['a', 'b', 'c', 'd', 'e', 'f', 'g', 'h', 'i', 'j', 'k', 'l', 'm', 'n', 'o', 'p', 'q', 'r', 's', 't', 'u', 'v', 'w', 'x', 'y', 'z']\n"
          ]
        }
      ],
      "source": [
        "## make a tuple of all alphabits in one line\n",
        "alphabets = [chr(i) for i in range(ord('a'), ord('z')+1)]      #ord gives back the  unicode (like ASCII) which gets converted back to the letter in chr.\n",
        "print(alphabets)"
      ]
    },
    {
      "cell_type": "code",
      "execution_count": 88,
      "metadata": {
        "id": "4jOYzdbhnZhN",
        "scrolled": true
      },
      "outputs": [
        {
          "name": "stdout",
          "output_type": "stream",
          "text": [
            "['a1', 'a2', 'a3', 'a4', 'b1', 'b2', 'b3', 'b4', 'c1', 'c2', 'c3', 'c4', 'd1', 'd2', 'd3', 'd4']\n",
            "do stuff\n",
            "do stuff\n"
          ]
        }
      ],
      "source": [
        "## nested lists are also possible, see the example below \n",
        "nested_loop_list = [chr(i) + str(j) for i in range(ord('a'),ord('d')+1) for j in range(1, 5)]\n",
        "print(nested_loop_list)\n",
        "\n",
        "#Generally:\n",
        "l = [ [ [ [ [ [ 1 ] ] ] ] ] ]\n",
        "for a in l:\n",
        "   for b in a:\n",
        "      for c in b:\n",
        "            for d in c:\n",
        "               for e in d:\n",
        "                  for f in e:\n",
        "                        print(\"do stuff\")\n",
        "#is equivalent to\n",
        "                         \n",
        "   [print(\"do stuff\")\n",
        "      for a in l\n",
        "        for b in a\n",
        "            for c in b\n",
        "                for d in c\n",
        "                    for e in d\n",
        "                        for f in e]\n",
        "                        \n",
        "\n"
      ]
    },
    {
      "cell_type": "markdown",
      "metadata": {
        "id": "kSCn4-WWnZhP"
      },
      "source": [
        "---------------------"
      ]
    },
    {
      "cell_type": "markdown",
      "metadata": {
        "id": "iRp16hxnnZhQ"
      },
      "source": [
        "## Functions\n",
        "Python allows you to create functions for code modularity and reusability. a function is defined using the 'def function_name(parameters):' signature."
      ]
    },
    {
      "cell_type": "code",
      "execution_count": 89,
      "metadata": {
        "id": "GYff3UGPnZhZ"
      },
      "outputs": [
        {
          "name": "stdout",
          "output_type": "stream",
          "text": [
            "parameter 1 is  1\n",
            "parameter 2 is  2\n",
            "parameter 3 is  3\n",
            "parameter 4 is  4\n",
            "#########\n",
            "parameter 1 is  1\n",
            "parameter 2 is  2\n",
            "parameter 3 is  3\n",
            "parameter 4 is  4\n"
          ]
        }
      ],
      "source": [
        "## if a function has too many arguments, and you don't remember the order of them, you can pass the values by naming the arguments regradless of order!\n",
        "def too_much_parameters(param1, param2, param3, param4):\n",
        "    \n",
        "    print('parameter 1 is ', param1)\n",
        "    print('parameter 2 is ', param2)    \n",
        "    print('parameter 3 is ', param3)   \n",
        "    print('parameter 4 is ', param4)   \n",
        "    \n",
        "\n",
        "too_much_parameters(param2=2, param4= 4, param1=1, param3=3) ## this\n",
        "print(\"#########\")\n",
        "too_much_parameters(1,2,3,4) ## is exactly like this"
      ]
    },
    {
      "cell_type": "code",
      "execution_count": 90,
      "metadata": {
        "id": "CY3MtyFSnZhi"
      },
      "outputs": [
        {
          "name": "stdout",
          "output_type": "stream",
          "text": [
            "5.0\n"
          ]
        }
      ],
      "source": [
        "## function_name = lambda inputs: to_be_returned\n",
        "distance_from_origin = lambda x, y: (x**2 + y**2)**0.5 \n",
        "\n",
        "print(distance_from_origin(3, 4))"
      ]
    },
    {
      "cell_type": "markdown",
      "metadata": {
        "id": "wD6zFY0nnZhk"
      },
      "source": [
        "---------------------"
      ]
    },
    {
      "cell_type": "markdown",
      "metadata": {
        "id": "qxFWXtjwnZhk"
      },
      "source": [
        "## Exception Handling\n",
        "\n",
        "Execption handling is simple: surround the vulnerable code with a try-except block. \n",
        "\n",
        "**Good Practice** provide expressive messages when handling errors, it will reduce time and give readable clean code."
      ]
    },
    {
      "cell_type": "code",
      "execution_count": 91,
      "metadata": {
        "id": "e3Ubs30CnZhk"
      },
      "outputs": [],
      "source": [
        "def safe_divide(numerator, denominator):\n",
        "    \n",
        "    quotient = None ## quotient of dividing the numerator by the denominator\n",
        "    try:\n",
        "        quotient = numerator / denominator\n",
        "    except ZeroDivisionError: ## if the denominator was zero, this exception will be thrown (what's below will be printed.)\n",
        "        print('Denominator cannot be zero!')\n",
        "        \n",
        "    return quotient ## will return None if the exception is thrown, otherwise returns result"
      ]
    },
    {
      "cell_type": "markdown",
      "metadata": {
        "id": "XYITKWXKnZhr"
      },
      "source": [
        "You can raise exceptions in your functions as well"
      ]
    },
    {
      "cell_type": "code",
      "execution_count": 92,
      "metadata": {
        "id": "bM5cddF9nZhr"
      },
      "outputs": [],
      "source": [
        "## this function accepts only numeric values\n",
        "def add_5(value):\n",
        "    if not isinstance(value, int) and not isinstance(value, float):  ## check if calue is numeric\n",
        "        raise TypeError('value must be nuemric, found: ', type(value))\n",
        "        \n",
        "    ## if it is numeric\n",
        "    return value + 5"
      ]
    },
    {
      "cell_type": "markdown",
      "metadata": {
        "id": "q1JAmo0_nZhy"
      },
      "source": [
        "**GOOD PRACTICE** it is better to specify the type of exception in the 'except' block of course, but you can have a generic except block to catch any type of exceptions"
      ]
    },
    {
      "cell_type": "code",
      "execution_count": 93,
      "metadata": {
        "id": "PC5twl_inZhy"
      },
      "outputs": [],
      "source": [
        "def generic_excpetion_function():\n",
        "    \n",
        "    try:\n",
        "        print('doing something evil...')\n",
        "        evil = True\n",
        "        if evil:    raise 'Some Exception'\n",
        "    except: ## generic exception handling: catches any exception \n",
        "        print('caught generic exception')\n"
      ]
    },
    {
      "cell_type": "code",
      "execution_count": 94,
      "metadata": {
        "id": "jJCCpfI3nZh1"
      },
      "outputs": [
        {
          "name": "stdout",
          "output_type": "stream",
          "text": [
            "doing something evil...\n",
            "caught generic exception\n"
          ]
        }
      ],
      "source": [
        "generic_excpetion_function()"
      ]
    },
    {
      "cell_type": "markdown",
      "metadata": {
        "id": "LrtAcad3nZh2"
      },
      "source": [
        "---------------------"
      ]
    },
    {
      "cell_type": "markdown",
      "metadata": {
        "id": "Q87Kv35HnZh3"
      },
      "source": [
        "\n",
        "\n",
        "\n",
        "\n",
        "\n",
        "## Object Oriented Programming in Python\n",
        "Pythons allows you to create user-defined classes with all OOP concepts: polymorphism, inheritance...etc.\n",
        "\n",
        "In this section we will see how to use OOP in Python.\n",
        "\n",
        "Although Python does not require binding functions and variables to specific classes to work, we usually need them for clean code and modularity.\n",
        "\n",
        "### Classes:\n",
        "To define a class, we use the 'def ClassName:' signature. \n",
        "\n",
        "Classes have two types of attributes:\n",
        "* Class Attributes: Static variables that are shared by all objects of the class type, and can be accessed using the class name itself.\n",
        "\n",
        "* Instance Attributes: Variables that differ in value from a class instance to another.\n",
        "\n",
        "Classes have two types of methods:\n",
        "* Class Methods should be annotated by the '@staticmethod' before method definition, it can be used by the Class name itself\n",
        "\n",
        "* Instance Methods are associated by each instance, it **must** include the parameter 'self' at the beginning of the parameters list.\n",
        "\n",
        "in order to make an instance attribute or instance method private, their names should start by two underscores '__methodName'"
      ]
    },
    {
      "cell_type": "code",
      "execution_count": 95,
      "metadata": {
        "id": "BV8XcQMmnZh3"
      },
      "outputs": [],
      "source": [
        "class PersonClass:\n",
        "    \n",
        "    ## in the class scope, we define the class variables and methods\n",
        "    \n",
        "    ## Class Attributes:\n",
        "    \n",
        "    ## class Attributes defined here are always PUBLIC and STATIC \n",
        "    nationality = 'American'\n",
        "    \n",
        "    ## class constructor\n",
        "    def __init__(self, firstName, lastName):\n",
        "        print('Person Constructor is Called')\n",
        "        ## instance variable defiend here are public and differ from instance to another\n",
        "        self.firstName = firstName\n",
        "        self.lastName = lastName\n",
        "        #Python has no private variables or functions but this will act as one because the interpreter will change its name as it starts with _\n",
        "        self._salary = 5000                             \n",
        "                                                            \n",
        "        \n",
        "    ## class static method:\n",
        "    @staticmethod\n",
        "    def capitalized_nationality():\n",
        "        return PersonClass.nationality.upper()\n",
        "    \n",
        "    ## instance methods:\n",
        "    def get_full_name(someone):                                 #Whatever the first argument is called, its considered 'self'\n",
        "        return f'{someone.firstName} {someone.lastName}'\n",
        "    \n",
        "    def __private_function(self):\n",
        "        return 'Some text'\n",
        "        "
      ]
    },
    {
      "cell_type": "markdown",
      "metadata": {
        "id": "9cQUn8FvnZh5"
      },
      "source": [
        "**Notice** the class attributes that are defined outside the constructor are static: they are shared by all objects of the class, and can be accessed throw the class name. For example:"
      ]
    },
    {
      "cell_type": "code",
      "execution_count": 96,
      "metadata": {
        "id": "86WfY1uInZh5"
      },
      "outputs": [
        {
          "data": {
            "text/plain": [
              "'American'"
            ]
          },
          "execution_count": 96,
          "metadata": {},
          "output_type": "execute_result"
        }
      ],
      "source": [
        "PersonClass.nationality             ## this belongs to the whole class, can use its name or any object that belongs to it."
      ]
    },
    {
      "cell_type": "code",
      "execution_count": 97,
      "metadata": {
        "id": "XhIybWFVnZh8"
      },
      "outputs": [
        {
          "data": {
            "text/plain": [
              "'AMERICAN'"
            ]
          },
          "execution_count": 97,
          "metadata": {},
          "output_type": "execute_result"
        }
      ],
      "source": [
        "PersonClass.capitalized_nationality()"
      ]
    },
    {
      "cell_type": "code",
      "execution_count": 98,
      "metadata": {
        "id": "HcAODxxdnZiA"
      },
      "outputs": [
        {
          "name": "stdout",
          "output_type": "stream",
          "text": [
            "Person Constructor is Called\n",
            "Person Constructor is Called\n",
            "Micheal\n",
            "Larry Bird\n"
          ]
        }
      ],
      "source": [
        "personInstance = PersonClass('Micheal', 'Jordan')\n",
        "anotherPerson = PersonClass('Larry', 'Bird')\n",
        "\n",
        "print(personInstance.firstName) ## this is an instance variable\n",
        "print(anotherPerson.get_full_name()) ## this is an instance method"
      ]
    },
    {
      "cell_type": "code",
      "execution_count": 99,
      "metadata": {
        "id": "ASP3rkAxnZiD"
      },
      "outputs": [
        {
          "name": "stdout",
          "output_type": "stream",
          "text": [
            "AMERICAN\n"
          ]
        }
      ],
      "source": [
        "print(anotherPerson.capitalized_nationality()) ## access class method from instance object"
      ]
    },
    {
      "cell_type": "markdown",
      "metadata": {
        "id": "_XB5e7zinZiF"
      },
      "source": [
        "### Inheritance and Polymorphic Behavior\n",
        "\n",
        "A class can inherit from another class. In effect, that gives the *child* class all the functionality of the *parent* class.\n",
        "\n",
        "Polymorphism means that the *Child* class can *override* some of these functionalities if needed."
      ]
    },
    {
      "cell_type": "code",
      "execution_count": 100,
      "metadata": {
        "id": "zUrEBmMwnZiF"
      },
      "outputs": [],
      "source": [
        "class WomanClass(PersonClass):\n",
        "    \n",
        "    def __init__(self, firstName, lastName):    \n",
        "        ## since base class has no default constructor, we must call it (can also use super.__init__)\n",
        "        PersonClass.__init__(self, firstName, lastName)\n",
        "    \n",
        "    ## special method to this class\n",
        "    def my_gender(self):  \n",
        "            print(\"I am a female\")\n",
        "        \n",
        "    ## override the get_full_name from the base class\n",
        "    def get_full_name(self):\n",
        "        return f\"Hello {self.firstName} {self.lastName}\" \n",
        "\n",
        "\n",
        "    ## private method since women NEVER reveal their age o.O\n",
        "    def __get_age():\n",
        "        pass"
      ]
    },
    {
      "cell_type": "code",
      "execution_count": 101,
      "metadata": {
        "id": "FJtgu2u5nZiH"
      },
      "outputs": [
        {
          "name": "stdout",
          "output_type": "stream",
          "text": [
            "Person Constructor is Called\n",
            "Hello S J\n",
            "AMERICAN\n",
            "I am a female\n"
          ]
        }
      ],
      "source": [
        "womanInstance = WomanClass('S', 'J')\n",
        "\n",
        "print(womanInstance.get_full_name()) ## call overridden function\n",
        "print(womanInstance.capitalized_nationality()) ## call function from base class\n",
        "womanInstance.my_gender() ## call derived class function"
      ]
    },
    {
      "cell_type": "markdown",
      "metadata": {
        "id": "E1QahXoInZiJ"
      },
      "source": [
        "---------------------"
      ]
    },
    {
      "cell_type": "markdown",
      "metadata": {
        "id": "1YLyr6-7nZiJ"
      },
      "source": [
        "## File IO\n",
        "\n",
        "Dealing with files is very important in Python, yet very simple.\n",
        "\n",
        "The `open` function is used to deal with files. It takes the *file path* as its first argument and the *mode* as its second. The file path can be relative or absolute. The mode is a string of flag characters that controls how the file will be used, for example, `'w'` for writing, `'r'` for reading, `'a'` for appending, etc., and it defaults to `'r'`."
      ]
    },
    {
      "cell_type": "code",
      "execution_count": 102,
      "metadata": {
        "id": "pCQOTioYnZiK"
      },
      "outputs": [
        {
          "name": "stdout",
          "output_type": "stream",
          "text": [
            "<_io.TextIOWrapper name='myfile.txt' mode='w' encoding='UTF-8'>\n"
          ]
        }
      ],
      "source": [
        "file = open('myfile.txt', 'w')  # opening a file in the same working directory named myfile.txt\n",
        "print(file)"
      ]
    },
    {
      "cell_type": "markdown",
      "metadata": {
        "id": "ZLFWIM1JnZiL"
      },
      "source": [
        "We can write anything in the file"
      ]
    },
    {
      "cell_type": "code",
      "execution_count": 103,
      "metadata": {
        "id": "B4E-GwX4nZiL"
      },
      "outputs": [],
      "source": [
        "file.write(\"Hello!\\nI am writing this file using Python!\")\n",
        "file.close()"
      ]
    },
    {
      "cell_type": "markdown",
      "metadata": {
        "id": "NUHcY_sKnZiN"
      },
      "source": [
        "We then can read the file contents again using the readLines() function to read the file lines at once. "
      ]
    },
    {
      "cell_type": "code",
      "execution_count": 104,
      "metadata": {
        "id": "A8xDtY4tnZiN"
      },
      "outputs": [
        {
          "name": "stdout",
          "output_type": "stream",
          "text": [
            "Hello!\n",
            "\n",
            "I am writing this file using Python!\n"
          ]
        }
      ],
      "source": [
        "fileReader = open('myfile.txt', 'r') # open file in reading mode\n",
        "\n",
        "## loop over the file lines:\n",
        "\n",
        "for line in fileReader:             #need .readLines for older versions of Python, here it loops on lines by default.\n",
        "    print(line)\n",
        "\n",
        "## donot forget to close the file handler\n",
        "fileReader.close()"
      ]
    },
    {
      "cell_type": "markdown",
      "metadata": {
        "id": "eTSMPxg6nZiP"
      },
      "source": [
        "**GOOD PRACTICE** to always use `open` in `with` statements to automatically release the file!"
      ]
    },
    {
      "cell_type": "code",
      "execution_count": 105,
      "metadata": {
        "id": "usgPUKionZiP",
        "scrolled": true
      },
      "outputs": [
        {
          "name": "stdout",
          "output_type": "stream",
          "text": [
            "Hello!\n",
            "I am writing this file using Python!\n"
          ]
        }
      ],
      "source": [
        "with open('myfile.txt', 'r') as fileReader:\n",
        "    for line in fileReader:\n",
        "        print(line.rstrip())            #remove any spaces at the end of the line.\n",
        "fileReader.close()\n",
        "\n",
        "lines = open('myFile.txt').read().split('\\n')      #from file to list on non-empty lines. "
      ]
    },
    {
      "cell_type": "markdown",
      "metadata": {
        "id": "6ThvxRQ0nZiR"
      },
      "source": [
        "---------------------"
      ]
    },
    {
      "cell_type": "markdown",
      "metadata": {
        "id": "oFa5kQg-nZiR"
      },
      "source": []
    },
    {
      "cell_type": "markdown",
      "metadata": {},
      "source": [
        "# REAL Python Starts Here\n",
        "Until now, all we discussed was the syntax of crude Python operations. It is important to know it and not fall in Syntax errors, but crude Python is slower than most porgramming languages. That is why libraries like NumPy, Pandas, and Matplot-Lib not only allow you to use ready made functionalities, they are **MUCH** faster than normal Python operations.\n",
        "\n",
        "(BONUS: only **ONE** operation in python is faster than NumPy, find it and send the answer `With Proof` to me in private).\n",
        "\n",
        "**NOTICE** in upcoming labs, you will be evaluated on performance, so make sure \n",
        "you understand these libraries very well."
      ]
    },
    {
      "cell_type": "markdown",
      "metadata": {
        "id": "BLjDDqEgnZiS"
      },
      "source": [
        "# NUMPY\n",
        "The first important library you **MUST** use whenever it comes to matrix/vector operations. \n",
        "We'll there is also Pytorch...\n",
        "\n",
        "Numpy is a general purpose **Array** processing package. It provides high-performance multidimensional array objects, with operations over them, that make them very computationally efficient. \n",
        "\n",
        "For a starter, NumPy is written and compiled in C not python (that's why it is much faster than Python).\n",
        "\n",
        "But more importantly, NumPy allows for **Parallelization** (and this HIGHLY depends on the code you write). "
      ]
    },
    {
      "cell_type": "code",
      "execution_count": 106,
      "metadata": {},
      "outputs": [
        {
          "name": "stdout",
          "output_type": "stream",
          "text": [
            "863 ns ± 7.34 ns per loop (mean ± std. dev. of 7 runs, 1000000 loops each)\n",
            "10.7 µs ± 55.5 ns per loop (mean ± std. dev. of 7 runs, 100000 loops each)\n"
          ]
        }
      ],
      "source": [
        "import numpy as np\n",
        "import random\n",
        "arr = np.array([1,2,3])\n",
        "\n",
        "%timeit random.choices(arr, k=1)\n",
        "%timeit np.random.choice(arr, size=1)\n",
        "\n",
        "#From StackOverflow \n",
        "# \"The overhead of making sure the memory blocks line up correctly before pouring an ndarray into a c-compiled numpy\n",
        "#  function will generally overwhelm any time benefit if the array isn't relatively large. \""
      ]
    },
    {
      "cell_type": "markdown",
      "metadata": {
        "id": "qwdEyzZynZiV"
      },
      "source": [
        "## Arrays in NumPy\n",
        "Arrays in NumPy are like Matrices. 1D arrays are called `vectors`, and nD arrays are high dimentional matrices, for example 2D. \n",
        "\n",
        "\n",
        "**VERY IMPORTANT** For 2D matrices, the shape is (`row ,column`), and vectors in the matrices in NumPy are **Horizontal** not vertical like we learn in linear algebra.\n",
        "\n",
        "There are multiple easy ways to create array objects from numpy.\n",
        "\n",
        "### 1. Create arrays from Lists values"
      ]
    },
    {
      "cell_type": "code",
      "execution_count": 107,
      "metadata": {
        "id": "w_VxWF3-nZiV"
      },
      "outputs": [
        {
          "name": "stdout",
          "output_type": "stream",
          "text": [
            "[1 2 3 4] is of type <class 'numpy.ndarray'>\n",
            "Its shape is (4,)\n",
            "Its data type int64\n"
          ]
        }
      ],
      "source": [
        "## create array from values\n",
        "np_arr = np.array([1, 2, 3, 4]) ##\n",
        "\n",
        "## print it:\n",
        "print(np_arr, \"is of type\", type(np_arr))    # .dtype is what would give you the type of the elements. type() will just tell you its a NumPy thing.\n",
        "\n",
        "## use array_name.shape to get array shape\n",
        "print(\"Its shape is\", np_arr.shape)  \n",
        "\n",
        "## use array_name.dtyoe to get type of array elements\n",
        "print(\"Its data type\", np_arr.dtype)"
      ]
    },
    {
      "cell_type": "markdown",
      "metadata": {
        "id": "B4ZIWw_wnZiX"
      },
      "source": [
        "**IMPORTANT** Unlike lists in Python, NumPy arrays should have the same data type fro **ALL** its elements"
      ]
    },
    {
      "cell_type": "markdown",
      "metadata": {
        "id": "s5kaVW6gnZia"
      },
      "source": [
        "### 2. Create Common types of arrays"
      ]
    },
    {
      "cell_type": "code",
      "execution_count": 108,
      "metadata": {
        "id": "UaHFNnbBnZia"
      },
      "outputs": [
        {
          "name": "stdout",
          "output_type": "stream",
          "text": [
            "[[2.00000000e+000 4.33251098e-311]\n",
            " [2.47032823e-323 0.00000000e+000]\n",
            " [0.00000000e+000 0.00000000e+000]]\n"
          ]
        }
      ],
      "source": [
        "## create an empty array of size 3*2\n",
        "arr = np.empty((3,2)) \n",
        "print(arr) ## An unnitianlized array (zeros would take longer)"
      ]
    },
    {
      "cell_type": "code",
      "execution_count": 109,
      "metadata": {
        "id": "NcOeNT5inZic"
      },
      "outputs": [
        {
          "name": "stdout",
          "output_type": "stream",
          "text": [
            "[[1. 0. 0. 0. 0.]\n",
            " [0. 1. 0. 0. 0.]\n",
            " [0. 0. 1. 0. 0.]\n",
            " [0. 0. 0. 1. 0.]\n",
            " [0. 0. 0. 0. 1.]]\n"
          ]
        }
      ],
      "source": [
        "## create identity matrix of size 5*5 \n",
        "#### (Remember, identity matrix has 1s on diagonals and 0s otherwise, and it is always a square matrix)\n",
        "identity = np.identity(5)\n",
        "\n",
        "print(identity)"
      ]
    },
    {
      "cell_type": "code",
      "execution_count": 110,
      "metadata": {
        "id": "-Kaxh3n0nZif"
      },
      "outputs": [
        {
          "name": "stdout",
          "output_type": "stream",
          "text": [
            "[[1. 1. 1. 1.]\n",
            " [1. 1. 1. 1.]\n",
            " [1. 1. 1. 1.]]\n",
            "[[0. 0.]\n",
            " [0. 0.]]\n",
            "[['a' 'a']\n",
            " ['a' 'a']\n",
            " ['a' 'a']]\n"
          ]
        }
      ],
      "source": [
        "## create array full of 1s  of size 3*4\n",
        "all_ones = np.ones((3, 4))  \n",
        "print(all_ones)\n",
        "## create array full of zeros of size 2*2\n",
        "all_zeros = np.zeros((2,2))\n",
        "print(all_zeros)\n",
        "## create array full of specified value (here character 'a') of size 3*2\n",
        "all_a = np.full((3,2), 'a')\n",
        "print(all_a)"
      ]
    },
    {
      "cell_type": "markdown",
      "metadata": {
        "id": "liQeIGz9nZik"
      },
      "source": [
        "## Matrix Operations in NumPy\n",
        "\n",
        "NumPy allows many built-in matrix operations that are very useful"
      ]
    },
    {
      "cell_type": "markdown",
      "metadata": {
        "id": "xYFbz3MDnZim"
      },
      "source": [
        "If you know one dimension of the new matrix, but not sure the other dimension, you can let NumPy guess it by placing -1 instead of the new dimension value. **REMEMBER** you can use -1 for only one of the dimensions."
      ]
    },
    {
      "cell_type": "code",
      "execution_count": 115,
      "metadata": {
        "id": "YTd7xBvdnZip"
      },
      "outputs": [
        {
          "name": "stdout",
          "output_type": "stream",
          "text": [
            "[[ 5 11 17]\n",
            " [11 25 39]\n",
            " [17 39 61]]\n",
            "result shape:  (3, 3)\n"
          ]
        }
      ],
      "source": [
        "## Matrix by Matrix Multiplication using np.dot:\n",
        "mat1 = np.array([ [1, 2], [3, 4], [5, 6]])  ## of shape 3*2\n",
        "mat2 = np.array([[1, 3, 5], [2, 4, 6]]) ## of shape 2*3\n",
        "\n",
        "## result matrix is of shape 3*3\n",
        "mat1_by_mat2 = mat1 @ mat2 ## rememeber, inner dimensions must be the similar\n",
        "\n",
        "# np.dot(a,b) will either compute the dot product (1D vectors) or do matrix multiplication if they are matrices.\n",
        "\n",
        "print(mat1_by_mat2)\n",
        "print('result shape: ', mat1_by_mat2.shape)"
      ]
    },
    {
      "cell_type": "code",
      "execution_count": 116,
      "metadata": {
        "id": "oDS-EBp9nZis"
      },
      "outputs": [
        {
          "name": "stdout",
          "output_type": "stream",
          "text": [
            "[[ 1  4]\n",
            " [ 9 16]\n",
            " [25 36]]\n",
            "result shape:  (3, 2)\n"
          ]
        }
      ],
      "source": [
        "## the astrisk * is used for element-wise multiplication\n",
        "mat1 = np.array([ [1, 2], [3, 4], [5, 6]])  ## of shape 3*2\n",
        "mat2 = np.array([ [1, 2], [3, 4], [5, 6]])  ## of shape 3*2\n",
        "\n",
        "mat1_elements_by_mat2_elements = mat1*mat2 ## they MUST be of the same size\n",
        "print(mat1_elements_by_mat2_elements)\n",
        "print('result shape: ', mat1_elements_by_mat2_elements.shape)"
      ]
    },
    {
      "cell_type": "markdown",
      "metadata": {
        "id": "m5_igKNcnZit"
      },
      "source": [
        "## Broadcasting in NumPy\n",
        "\n",
        "Broadcasting is the MOST important concept in numpy. The term broadcasting describes how numpy treats arrays with different shapes during arithmetic operations.\n",
        "\n",
        "\n"
      ]
    },
    {
      "cell_type": "code",
      "execution_count": 117,
      "metadata": {
        "id": "OxgF3LhunZit"
      },
      "outputs": [
        {
          "name": "stdout",
          "output_type": "stream",
          "text": [
            "[6 7 8]\n"
          ]
        }
      ],
      "source": [
        "arr = np.array([1, 2, 3])\n",
        "arr_plus_5 = arr + 5          #5 will be broadcasted to [5, 5, 5]\n",
        "print(arr_plus_5) "
      ]
    },
    {
      "cell_type": "markdown",
      "metadata": {
        "id": "pkgHGS2tnZiv"
      },
      "source": [
        "We want to multiply the firs column by 2, the second column by 3, and the third column by 4. \n",
        "\n",
        "We can do that using broadcasting of array [2, 3, 4] over the matrix. See:"
      ]
    },
    {
      "cell_type": "code",
      "execution_count": 118,
      "metadata": {
        "id": "fxQBcaQtnZiv"
      },
      "outputs": [
        {
          "name": "stdout",
          "output_type": "stream",
          "text": [
            "[[ 2  6 12]\n",
            " [ 2  6 12]\n",
            " [ 2  6 12]]\n"
          ]
        }
      ],
      "source": [
        "## create our matrix\n",
        "mat = np.array([ [1, 2, 3], [1, 2, 3], [1, 2, 3]]) # 3x3\n",
        "\n",
        "## the multiplication values\n",
        "multiplication_vals = np.array([2, 3, 4])    # will be broadcasted to 3 x 3 by repeating the rows.\n",
        "\n",
        "print(mat * multiplication_vals)\n",
        "\n",
        "\n",
        "#Broadcasting Rules (else error):\n",
        "#When operating on two arrays, NumPy compares their shapes element-wise. \n",
        "# It starts with the trailing (i.e. rightmost) dimensions and works its way left. Two dimensions are compatible when\n",
        "# 1 - they are equal, or\n",
        "# 2 -one of them is 1\n",
        "\n",
        "# For example, if a.shape is (5,1), b.shape is (1,6), c.shape is (6,) and d.shape is ()\n",
        "#  then a, b, c, and d are all broadcastable to dimension (5,6) (by repeating some unit within them)"
      ]
    },
    {
      "cell_type": "markdown",
      "metadata": {
        "id": "Cyw87IppnZiy"
      },
      "source": [
        "What happened here is that NumPy found the shape of the first matrix is (3,3) and the second one is (3,) so it repeated the **Smaller** matrix until its shape is like the first one (i.e made it 3 * 3 matrix) then multiplied each element by the corresponding one."
      ]
    },
    {
      "cell_type": "markdown",
      "metadata": {
        "id": "KiqxY3KEnZiy"
      },
      "source": [
        "## Array Slicing\n",
        "Indexing arrays in NumPy is easy and useful. We can index sub-arrays, elements and vectors (horizontally and vertically)"
      ]
    },
    {
      "cell_type": "code",
      "execution_count": 119,
      "metadata": {
        "id": "avJ2tPd9nZiz"
      },
      "outputs": [
        {
          "name": "stdout",
          "output_type": "stream",
          "text": [
            "[[ 0  1  2  3  4]\n",
            " [ 5  6  7  8  9]\n",
            " [10 11 12 13 14]\n",
            " [15 16 17 18 19]\n",
            " [20 21 22 23 24]]\n"
          ]
        }
      ],
      "source": [
        "mat = np.arange(25).reshape(5,5) ## create a 5*5 array\n",
        "\n",
        "print(mat)"
      ]
    },
    {
      "cell_type": "code",
      "execution_count": null,
      "metadata": {
        "id": "1hLB-ZUQnZi2"
      },
      "outputs": [],
      "source": [
        "## get the first row\n",
        "print(mat[0]) ## similar to mat[0, :] \"get first row including all columns\"\n",
        "\n",
        "## get the 2nd column in numpy \"get 2nd column including all rows\"\n",
        "print(mat[:, 1])"
      ]
    },
    {
      "cell_type": "code",
      "execution_count": null,
      "metadata": {
        "id": "GnD2tmS9nZi4"
      },
      "outputs": [],
      "source": [
        "## get the sub array of elements from index (1,1) through the index (3,4)\n",
        "print(mat[1:4, 1:5]) ## we want rows 1,2 and 3. and columns 1,2,3,4"
      ]
    },
    {
      "cell_type": "markdown",
      "metadata": {
        "id": "HWDSBuZLnZi6"
      },
      "source": [
        "## Boolean Masks\n",
        "\n",
        "Another important concept in NumPy is the Masked indexing. We can treat elements of arrays as one object, and index over them using operations.\n",
        "\n",
        "To check which elements of an array are positive:"
      ]
    },
    {
      "cell_type": "code",
      "execution_count": 133,
      "metadata": {
        "id": "mHmjQeabnZi6"
      },
      "outputs": [
        {
          "name": "stdout",
          "output_type": "stream",
          "text": [
            "[[-4 -5  2 -9]\n",
            " [-6  4  4 -5]\n",
            " [ 2  1 -4 -2]]\n",
            "[[ True False  True False]\n",
            " [ True  True  True False]\n",
            " [ True False  True  True]]\n",
            "[-4  2 -6  4  4  2 -4 -2]\n",
            "[[-99  -5 -99  -9]\n",
            " [-99 -99 -99  -5]\n",
            " [-99   1 -99 -99]]\n",
            "[ True False  True]\n",
            "[[-99  -5 -99  -9]\n",
            " [-99   1 -99 -99]]\n",
            "[ True False  True  True]\n",
            "[[-99 -99  -9]\n",
            " [-99 -99  -5]\n",
            " [-99 -99 -99]]\n"
          ]
        }
      ],
      "source": [
        "a = np.random.randint(-10, 10, 12).reshape(3, 4)\n",
        "print(a)\n",
        "print(a%2 == 0)         ## returns the corresponding boolean array of True, False\n",
        "print(a[a%2 == 0])      ## It flattens it then filters.\n",
        "\n",
        "# we can also use boolean masks to set certain values in the array to something.\n",
        "a[a%2 == 0] = '-99'\n",
        "print(a) \n",
        "\n",
        "# If the array is of dimensions mxn and we index with a vector of dimensions m (true, false)\n",
        "# we get the objects out of n satisfying the condition. \n",
        "print(a[:,3])                 #Last column\n",
        "print(a[:,3]%3==0)            #we can select rows with a vector like this (as if its a list of rows).\n",
        "print(a[a[:,3]%3==0])         #take these rows. There's an implicit 'a[a[:,3]%3==0,:' that also says take all columns\n",
        "\n",
        "\n",
        "#To select columns\n",
        "print(a[2,:]%9==0)          #Feeding a vector that specifies which columns to keep. \n",
        "print(a[:,a[2,:]%9==0])     #We must explictly say then \"take all rows, for columns this vector will help you choose.\"\n"
      ]
    },
    {
      "cell_type": "markdown",
      "metadata": {
        "id": "uDFc7ClWnZjA"
      },
      "source": [
        "## Aggregation\n",
        "\n",
        "NumPy provides a lot of common aggregation functions for arrays."
      ]
    },
    {
      "cell_type": "code",
      "execution_count": 152,
      "metadata": {
        "id": "vk2rkFUznZjA"
      },
      "outputs": [
        {
          "name": "stdout",
          "output_type": "stream",
          "text": [
            "2.0\n",
            "[[0 1]\n",
            " [2 3]\n",
            " [4 5]\n",
            " [6 7]\n",
            " [8 9]]\n",
            "[4. 5.]\n",
            "[0.5 2.5 4.5 6.5 8.5]\n"
          ]
        }
      ],
      "source": [
        " # sum, mean, var, std and A LOT more!\n",
        "arr = np.arange(5)      ## similar to np.array([0, 1, 2, 3, 4])\n",
        "print(arr.mean())    \n",
        "\n",
        "# If axis is specified, the function does not over the whole array\n",
        "\n",
        "arr = np.arange(10).reshape(5,2) ## creates a 5*2 array of values from 0-9\n",
        "print(arr)\n",
        "print(arr.mean(axis=0))  ## axis = 0 means it creates the mean over the columns (0-> x-axis: colums, 1-> y-axis: rows)\n",
        "\n",
        "print(arr.mean(axis=1)) ## axis = 1 for means of rows"
      ]
    },
    {
      "cell_type": "markdown",
      "metadata": {
        "id": "CZMBMfk8nZjB"
      },
      "source": [
        "---------------------"
      ]
    },
    {
      "cell_type": "markdown",
      "metadata": {
        "id": "8F2iCeaUnZjw"
      },
      "source": [
        "# Pandas\n",
        "Pandas is a library for reading, writing and manipulating datasets, usually in tabular format.\n",
        "\n",
        "Using Pandas is very similar to NumPy:"
      ]
    },
    {
      "cell_type": "code",
      "execution_count": 2,
      "metadata": {
        "id": "3-xVsiG1nZjw"
      },
      "outputs": [],
      "source": [
        "## import Pandas package to your workspace\n",
        "import pandas as pd"
      ]
    },
    {
      "cell_type": "markdown",
      "metadata": {
        "id": "Sr6DUz6jnZjx"
      },
      "source": [
        "Pandas is a library for reading, writing and manipulating datasets, usually in tabular format. It has two main data structures; `Series` which is similar to a NumPy arrays and `DataFrame` which is similar to 2D NumPy arrays. A `DataFrame` is essentially comprised of one or more `Series`. Since its usage is very similar to NumPy's (which underlies a lot of its functionalities), let's jump ahead to using it with datasets!\n",
        "\n",
        "We will be using UCI's famous [Iris dataset](https://www.kaggle.com/uciml/iris)."
      ]
    },
    {
      "cell_type": "markdown",
      "metadata": {
        "id": "5vpzggSLnZjx"
      },
      "source": [
        "## Reading Data Files in Pandas\n",
        "Pandas have multiple data file readers like CSV, TSV, JSON and many others. \n",
        "\n",
        "When the data is read, it is parsed into a DataFrame data type. Think of DataFrames as Named Tables where the columns of the tables have names and indexes, and rows are the rows are the entries for each column.\n",
        "\n",
        "To read a CSV file, we use Panda's ready-made function read_csv.\n",
        "\n",
        "Notice how the data is stored in a table-like data structure. That makes them easy to work on and use."
      ]
    },
    {
      "cell_type": "code",
      "execution_count": 3,
      "metadata": {
        "id": "HvSQQf7JnZjx"
      },
      "outputs": [
        {
          "data": {
            "text/html": [
              "<div>\n",
              "<style scoped>\n",
              "    .dataframe tbody tr th:only-of-type {\n",
              "        vertical-align: middle;\n",
              "    }\n",
              "\n",
              "    .dataframe tbody tr th {\n",
              "        vertical-align: top;\n",
              "    }\n",
              "\n",
              "    .dataframe thead th {\n",
              "        text-align: right;\n",
              "    }\n",
              "</style>\n",
              "<table border=\"1\" class=\"dataframe\">\n",
              "  <thead>\n",
              "    <tr style=\"text-align: right;\">\n",
              "      <th></th>\n",
              "      <th>Id</th>\n",
              "      <th>SepalLengthCm</th>\n",
              "      <th>SepalWidthCm</th>\n",
              "      <th>PetalLengthCm</th>\n",
              "      <th>PetalWidthCm</th>\n",
              "      <th>Species</th>\n",
              "    </tr>\n",
              "  </thead>\n",
              "  <tbody>\n",
              "    <tr>\n",
              "      <th>0</th>\n",
              "      <td>1</td>\n",
              "      <td>5.1</td>\n",
              "      <td>3.5</td>\n",
              "      <td>1.4</td>\n",
              "      <td>0.2</td>\n",
              "      <td>Iris-setosa</td>\n",
              "    </tr>\n",
              "    <tr>\n",
              "      <th>1</th>\n",
              "      <td>2</td>\n",
              "      <td>4.9</td>\n",
              "      <td>3.0</td>\n",
              "      <td>1.4</td>\n",
              "      <td>0.2</td>\n",
              "      <td>Iris-setosa</td>\n",
              "    </tr>\n",
              "    <tr>\n",
              "      <th>2</th>\n",
              "      <td>3</td>\n",
              "      <td>4.7</td>\n",
              "      <td>3.2</td>\n",
              "      <td>1.3</td>\n",
              "      <td>0.2</td>\n",
              "      <td>Iris-setosa</td>\n",
              "    </tr>\n",
              "    <tr>\n",
              "      <th>3</th>\n",
              "      <td>4</td>\n",
              "      <td>4.6</td>\n",
              "      <td>3.1</td>\n",
              "      <td>1.5</td>\n",
              "      <td>0.2</td>\n",
              "      <td>Iris-setosa</td>\n",
              "    </tr>\n",
              "    <tr>\n",
              "      <th>4</th>\n",
              "      <td>5</td>\n",
              "      <td>5.0</td>\n",
              "      <td>3.6</td>\n",
              "      <td>1.4</td>\n",
              "      <td>0.2</td>\n",
              "      <td>Iris-setosa</td>\n",
              "    </tr>\n",
              "  </tbody>\n",
              "</table>\n",
              "</div>"
            ],
            "text/plain": [
              "   Id  SepalLengthCm  SepalWidthCm  PetalLengthCm  PetalWidthCm      Species\n",
              "0   1            5.1           3.5            1.4           0.2  Iris-setosa\n",
              "1   2            4.9           3.0            1.4           0.2  Iris-setosa\n",
              "2   3            4.7           3.2            1.3           0.2  Iris-setosa\n",
              "3   4            4.6           3.1            1.5           0.2  Iris-setosa\n",
              "4   5            5.0           3.6            1.4           0.2  Iris-setosa"
            ]
          },
          "execution_count": 3,
          "metadata": {},
          "output_type": "execute_result"
        }
      ],
      "source": [
        "## read the Iris dataset into a dataframe\n",
        "iris_data = pd.read_csv('Iris.csv', sep=',') # the sep argument is the separator of the file. Here: a comma separated file (csv)\n",
        "\n",
        "## print the first 5 rows of the table to see how the dataframe is ordered:\n",
        "iris_data.head(5)"
      ]
    },
    {
      "cell_type": "code",
      "execution_count": 4,
      "metadata": {
        "id": "ezbOT9CunZjz"
      },
      "outputs": [
        {
          "data": {
            "text/plain": [
              "Index(['Id', 'SepalLengthCm', 'SepalWidthCm', 'PetalLengthCm', 'PetalWidthCm',\n",
              "       'Species'],\n",
              "      dtype='object')"
            ]
          },
          "execution_count": 4,
          "metadata": {},
          "output_type": "execute_result"
        }
      ],
      "source": [
        "# To get the column names:\n",
        "iris_data.columns"
      ]
    },
    {
      "cell_type": "markdown",
      "metadata": {
        "id": "UfE74WTgnZj2"
      },
      "source": [
        "We can also get a brief summary for all data columns using the \"describe()\" function\n",
        "* Count: the number of non-empty entries for the column\n",
        "* mean: the arithmetic mean of the column's data (if it were numeric)\n",
        "* std: the standard deviation of the column's data (if it were numeric)\n",
        "* min: minimum value in the column's entries (if it were numeric)\n",
        "* 25%: the 25th percentile (BONUS: what is a percentile)\n",
        "\n",
        "The values in which 25% of the data is below that value.\n",
        "\n",
        "* 50%: 50th percentile \n",
        "* 75%: 75th percentile\n",
        "* max: maximum value in the column's entries (if it were numeric)"
      ]
    },
    {
      "cell_type": "code",
      "execution_count": 5,
      "metadata": {
        "id": "Y8TgqbIUnZj2"
      },
      "outputs": [
        {
          "data": {
            "text/html": [
              "<div>\n",
              "<style scoped>\n",
              "    .dataframe tbody tr th:only-of-type {\n",
              "        vertical-align: middle;\n",
              "    }\n",
              "\n",
              "    .dataframe tbody tr th {\n",
              "        vertical-align: top;\n",
              "    }\n",
              "\n",
              "    .dataframe thead th {\n",
              "        text-align: right;\n",
              "    }\n",
              "</style>\n",
              "<table border=\"1\" class=\"dataframe\">\n",
              "  <thead>\n",
              "    <tr style=\"text-align: right;\">\n",
              "      <th></th>\n",
              "      <th>Id</th>\n",
              "      <th>SepalLengthCm</th>\n",
              "      <th>SepalWidthCm</th>\n",
              "      <th>PetalLengthCm</th>\n",
              "      <th>PetalWidthCm</th>\n",
              "    </tr>\n",
              "  </thead>\n",
              "  <tbody>\n",
              "    <tr>\n",
              "      <th>count</th>\n",
              "      <td>150.000000</td>\n",
              "      <td>150.000000</td>\n",
              "      <td>150.000000</td>\n",
              "      <td>150.000000</td>\n",
              "      <td>150.000000</td>\n",
              "    </tr>\n",
              "    <tr>\n",
              "      <th>mean</th>\n",
              "      <td>75.500000</td>\n",
              "      <td>5.843333</td>\n",
              "      <td>3.054000</td>\n",
              "      <td>3.758667</td>\n",
              "      <td>1.198667</td>\n",
              "    </tr>\n",
              "    <tr>\n",
              "      <th>std</th>\n",
              "      <td>43.445368</td>\n",
              "      <td>0.828066</td>\n",
              "      <td>0.433594</td>\n",
              "      <td>1.764420</td>\n",
              "      <td>0.763161</td>\n",
              "    </tr>\n",
              "    <tr>\n",
              "      <th>min</th>\n",
              "      <td>1.000000</td>\n",
              "      <td>4.300000</td>\n",
              "      <td>2.000000</td>\n",
              "      <td>1.000000</td>\n",
              "      <td>0.100000</td>\n",
              "    </tr>\n",
              "    <tr>\n",
              "      <th>25%</th>\n",
              "      <td>38.250000</td>\n",
              "      <td>5.100000</td>\n",
              "      <td>2.800000</td>\n",
              "      <td>1.600000</td>\n",
              "      <td>0.300000</td>\n",
              "    </tr>\n",
              "    <tr>\n",
              "      <th>50%</th>\n",
              "      <td>75.500000</td>\n",
              "      <td>5.800000</td>\n",
              "      <td>3.000000</td>\n",
              "      <td>4.350000</td>\n",
              "      <td>1.300000</td>\n",
              "    </tr>\n",
              "    <tr>\n",
              "      <th>75%</th>\n",
              "      <td>112.750000</td>\n",
              "      <td>6.400000</td>\n",
              "      <td>3.300000</td>\n",
              "      <td>5.100000</td>\n",
              "      <td>1.800000</td>\n",
              "    </tr>\n",
              "    <tr>\n",
              "      <th>max</th>\n",
              "      <td>150.000000</td>\n",
              "      <td>7.900000</td>\n",
              "      <td>4.400000</td>\n",
              "      <td>6.900000</td>\n",
              "      <td>2.500000</td>\n",
              "    </tr>\n",
              "  </tbody>\n",
              "</table>\n",
              "</div>"
            ],
            "text/plain": [
              "               Id  SepalLengthCm  SepalWidthCm  PetalLengthCm  PetalWidthCm\n",
              "count  150.000000     150.000000    150.000000     150.000000    150.000000\n",
              "mean    75.500000       5.843333      3.054000       3.758667      1.198667\n",
              "std     43.445368       0.828066      0.433594       1.764420      0.763161\n",
              "min      1.000000       4.300000      2.000000       1.000000      0.100000\n",
              "25%     38.250000       5.100000      2.800000       1.600000      0.300000\n",
              "50%     75.500000       5.800000      3.000000       4.350000      1.300000\n",
              "75%    112.750000       6.400000      3.300000       5.100000      1.800000\n",
              "max    150.000000       7.900000      4.400000       6.900000      2.500000"
            ]
          },
          "execution_count": 5,
          "metadata": {},
          "output_type": "execute_result"
        }
      ],
      "source": [
        "iris_data.describe()"
      ]
    },
    {
      "cell_type": "code",
      "execution_count": 6,
      "metadata": {
        "id": "YUJSpkajnZj3"
      },
      "outputs": [
        {
          "data": {
            "text/html": [
              "<div>\n",
              "<style scoped>\n",
              "    .dataframe tbody tr th:only-of-type {\n",
              "        vertical-align: middle;\n",
              "    }\n",
              "\n",
              "    .dataframe tbody tr th {\n",
              "        vertical-align: top;\n",
              "    }\n",
              "\n",
              "    .dataframe thead th {\n",
              "        text-align: right;\n",
              "    }\n",
              "</style>\n",
              "<table border=\"1\" class=\"dataframe\">\n",
              "  <thead>\n",
              "    <tr style=\"text-align: right;\">\n",
              "      <th></th>\n",
              "      <th>Id</th>\n",
              "      <th>SepalLengthCm</th>\n",
              "      <th>SepalWidthCm</th>\n",
              "      <th>PetalLengthCm</th>\n",
              "      <th>PetalWidthCm</th>\n",
              "      <th>Species</th>\n",
              "    </tr>\n",
              "  </thead>\n",
              "  <tbody>\n",
              "    <tr>\n",
              "      <th>18</th>\n",
              "      <td>19</td>\n",
              "      <td>5.7</td>\n",
              "      <td>3.8</td>\n",
              "      <td>1.7</td>\n",
              "      <td>0.3</td>\n",
              "      <td>Iris-setosa</td>\n",
              "    </tr>\n",
              "    <tr>\n",
              "      <th>82</th>\n",
              "      <td>83</td>\n",
              "      <td>5.8</td>\n",
              "      <td>2.7</td>\n",
              "      <td>3.9</td>\n",
              "      <td>1.2</td>\n",
              "      <td>Iris-versicolor</td>\n",
              "    </tr>\n",
              "    <tr>\n",
              "      <th>47</th>\n",
              "      <td>48</td>\n",
              "      <td>4.6</td>\n",
              "      <td>3.2</td>\n",
              "      <td>1.4</td>\n",
              "      <td>0.2</td>\n",
              "      <td>Iris-setosa</td>\n",
              "    </tr>\n",
              "    <tr>\n",
              "      <th>117</th>\n",
              "      <td>118</td>\n",
              "      <td>7.7</td>\n",
              "      <td>3.8</td>\n",
              "      <td>6.7</td>\n",
              "      <td>2.2</td>\n",
              "      <td>Iris-virginica</td>\n",
              "    </tr>\n",
              "    <tr>\n",
              "      <th>125</th>\n",
              "      <td>126</td>\n",
              "      <td>7.2</td>\n",
              "      <td>3.2</td>\n",
              "      <td>6.0</td>\n",
              "      <td>1.8</td>\n",
              "      <td>Iris-virginica</td>\n",
              "    </tr>\n",
              "    <tr>\n",
              "      <th>3</th>\n",
              "      <td>4</td>\n",
              "      <td>4.6</td>\n",
              "      <td>3.1</td>\n",
              "      <td>1.5</td>\n",
              "      <td>0.2</td>\n",
              "      <td>Iris-setosa</td>\n",
              "    </tr>\n",
              "    <tr>\n",
              "      <th>131</th>\n",
              "      <td>132</td>\n",
              "      <td>7.9</td>\n",
              "      <td>3.8</td>\n",
              "      <td>6.4</td>\n",
              "      <td>2.0</td>\n",
              "      <td>Iris-virginica</td>\n",
              "    </tr>\n",
              "    <tr>\n",
              "      <th>95</th>\n",
              "      <td>96</td>\n",
              "      <td>5.7</td>\n",
              "      <td>3.0</td>\n",
              "      <td>4.2</td>\n",
              "      <td>1.2</td>\n",
              "      <td>Iris-versicolor</td>\n",
              "    </tr>\n",
              "    <tr>\n",
              "      <th>74</th>\n",
              "      <td>75</td>\n",
              "      <td>6.4</td>\n",
              "      <td>2.9</td>\n",
              "      <td>4.3</td>\n",
              "      <td>1.3</td>\n",
              "      <td>Iris-versicolor</td>\n",
              "    </tr>\n",
              "    <tr>\n",
              "      <th>105</th>\n",
              "      <td>106</td>\n",
              "      <td>7.6</td>\n",
              "      <td>3.0</td>\n",
              "      <td>6.6</td>\n",
              "      <td>2.1</td>\n",
              "      <td>Iris-virginica</td>\n",
              "    </tr>\n",
              "  </tbody>\n",
              "</table>\n",
              "</div>"
            ],
            "text/plain": [
              "      Id  SepalLengthCm  SepalWidthCm  PetalLengthCm  PetalWidthCm  \\\n",
              "18    19            5.7           3.8            1.7           0.3   \n",
              "82    83            5.8           2.7            3.9           1.2   \n",
              "47    48            4.6           3.2            1.4           0.2   \n",
              "117  118            7.7           3.8            6.7           2.2   \n",
              "125  126            7.2           3.2            6.0           1.8   \n",
              "3      4            4.6           3.1            1.5           0.2   \n",
              "131  132            7.9           3.8            6.4           2.0   \n",
              "95    96            5.7           3.0            4.2           1.2   \n",
              "74    75            6.4           2.9            4.3           1.3   \n",
              "105  106            7.6           3.0            6.6           2.1   \n",
              "\n",
              "             Species  \n",
              "18       Iris-setosa  \n",
              "82   Iris-versicolor  \n",
              "47       Iris-setosa  \n",
              "117   Iris-virginica  \n",
              "125   Iris-virginica  \n",
              "3        Iris-setosa  \n",
              "131   Iris-virginica  \n",
              "95   Iris-versicolor  \n",
              "74   Iris-versicolor  \n",
              "105   Iris-virginica  "
            ]
          },
          "execution_count": 6,
          "metadata": {},
          "output_type": "execute_result"
        }
      ],
      "source": [
        "## get a random sample of 10 entries from the data:\n",
        "iris_data.sample(10)"
      ]
    },
    {
      "cell_type": "markdown",
      "metadata": {
        "id": "HuH4RFgfnZj4"
      },
      "source": [
        "**NOTICE** `head` returns n-elements from the begining, but `sample` returns n-elements randomly from the entire dataset"
      ]
    },
    {
      "cell_type": "markdown",
      "metadata": {
        "id": "QdN-TtVlnZj4"
      },
      "source": [
        "## Indexing in Pandas\n",
        "1. We can index throw the dataframe as if it were an 2D array using the `iloc`.\n",
        "\n",
        "For example, to get all entries of the 3rd row starting from the 2nd column:"
      ]
    },
    {
      "cell_type": "code",
      "execution_count": 10,
      "metadata": {
        "id": "QGQoBUVqnZj4"
      },
      "outputs": [
        {
          "data": {
            "text/plain": [
              "SepalLengthCm            4.7\n",
              "SepalWidthCm             3.2\n",
              "PetalLengthCm            1.3\n",
              "PetalWidthCm             0.2\n",
              "Species          Iris-setosa\n",
              "Name: 2, dtype: object"
            ]
          },
          "execution_count": 10,
          "metadata": {},
          "output_type": "execute_result"
        }
      ],
      "source": [
        "iris_data.iloc[2, 1:]         #we execlude the info from the info given about the third petal."
      ]
    },
    {
      "cell_type": "markdown",
      "metadata": {
        "id": "BxQY2ZVvnZj5"
      },
      "source": [
        "2. We can index a dataframe column by name"
      ]
    },
    {
      "cell_type": "code",
      "execution_count": 11,
      "metadata": {
        "id": "0JVRRPRrnZj6"
      },
      "outputs": [
        {
          "data": {
            "text/plain": [
              "0      5.1\n",
              "1      4.9\n",
              "2      4.7\n",
              "3      4.6\n",
              "4      5.0\n",
              "      ... \n",
              "145    6.7\n",
              "146    6.3\n",
              "147    6.5\n",
              "148    6.2\n",
              "149    5.9\n",
              "Name: SepalLengthCm, Length: 150, dtype: float64"
            ]
          },
          "execution_count": 11,
          "metadata": {},
          "output_type": "execute_result"
        }
      ],
      "source": [
        "iris_data.SepalLengthCm ## returns all the entries of the column 'SepalLengthCm'\n",
        "\n",
        "## Equivalent to iris_data['SepalLengthCm']"
      ]
    },
    {
      "cell_type": "markdown",
      "metadata": {
        "id": "YV6cdt94nZj7"
      },
      "source": [
        "3. We can use Masked Indexing as well\n",
        "\n",
        "For example, to get all entries of the column 'SepalLengthCm' that are under 5 centimeters:"
      ]
    },
    {
      "cell_type": "code",
      "execution_count": 12,
      "metadata": {
        "id": "FAns2mW4nZj7"
      },
      "outputs": [
        {
          "data": {
            "text/html": [
              "<div>\n",
              "<style scoped>\n",
              "    .dataframe tbody tr th:only-of-type {\n",
              "        vertical-align: middle;\n",
              "    }\n",
              "\n",
              "    .dataframe tbody tr th {\n",
              "        vertical-align: top;\n",
              "    }\n",
              "\n",
              "    .dataframe thead th {\n",
              "        text-align: right;\n",
              "    }\n",
              "</style>\n",
              "<table border=\"1\" class=\"dataframe\">\n",
              "  <thead>\n",
              "    <tr style=\"text-align: right;\">\n",
              "      <th></th>\n",
              "      <th>Id</th>\n",
              "      <th>SepalLengthCm</th>\n",
              "      <th>SepalWidthCm</th>\n",
              "      <th>PetalLengthCm</th>\n",
              "      <th>PetalWidthCm</th>\n",
              "      <th>Species</th>\n",
              "    </tr>\n",
              "  </thead>\n",
              "  <tbody>\n",
              "    <tr>\n",
              "      <th>1</th>\n",
              "      <td>2</td>\n",
              "      <td>4.9</td>\n",
              "      <td>3.0</td>\n",
              "      <td>1.4</td>\n",
              "      <td>0.2</td>\n",
              "      <td>Iris-setosa</td>\n",
              "    </tr>\n",
              "    <tr>\n",
              "      <th>2</th>\n",
              "      <td>3</td>\n",
              "      <td>4.7</td>\n",
              "      <td>3.2</td>\n",
              "      <td>1.3</td>\n",
              "      <td>0.2</td>\n",
              "      <td>Iris-setosa</td>\n",
              "    </tr>\n",
              "    <tr>\n",
              "      <th>3</th>\n",
              "      <td>4</td>\n",
              "      <td>4.6</td>\n",
              "      <td>3.1</td>\n",
              "      <td>1.5</td>\n",
              "      <td>0.2</td>\n",
              "      <td>Iris-setosa</td>\n",
              "    </tr>\n",
              "    <tr>\n",
              "      <th>6</th>\n",
              "      <td>7</td>\n",
              "      <td>4.6</td>\n",
              "      <td>3.4</td>\n",
              "      <td>1.4</td>\n",
              "      <td>0.3</td>\n",
              "      <td>Iris-setosa</td>\n",
              "    </tr>\n",
              "    <tr>\n",
              "      <th>8</th>\n",
              "      <td>9</td>\n",
              "      <td>4.4</td>\n",
              "      <td>2.9</td>\n",
              "      <td>1.4</td>\n",
              "      <td>0.2</td>\n",
              "      <td>Iris-setosa</td>\n",
              "    </tr>\n",
              "    <tr>\n",
              "      <th>9</th>\n",
              "      <td>10</td>\n",
              "      <td>4.9</td>\n",
              "      <td>3.1</td>\n",
              "      <td>1.5</td>\n",
              "      <td>0.1</td>\n",
              "      <td>Iris-setosa</td>\n",
              "    </tr>\n",
              "    <tr>\n",
              "      <th>11</th>\n",
              "      <td>12</td>\n",
              "      <td>4.8</td>\n",
              "      <td>3.4</td>\n",
              "      <td>1.6</td>\n",
              "      <td>0.2</td>\n",
              "      <td>Iris-setosa</td>\n",
              "    </tr>\n",
              "    <tr>\n",
              "      <th>12</th>\n",
              "      <td>13</td>\n",
              "      <td>4.8</td>\n",
              "      <td>3.0</td>\n",
              "      <td>1.4</td>\n",
              "      <td>0.1</td>\n",
              "      <td>Iris-setosa</td>\n",
              "    </tr>\n",
              "    <tr>\n",
              "      <th>13</th>\n",
              "      <td>14</td>\n",
              "      <td>4.3</td>\n",
              "      <td>3.0</td>\n",
              "      <td>1.1</td>\n",
              "      <td>0.1</td>\n",
              "      <td>Iris-setosa</td>\n",
              "    </tr>\n",
              "    <tr>\n",
              "      <th>22</th>\n",
              "      <td>23</td>\n",
              "      <td>4.6</td>\n",
              "      <td>3.6</td>\n",
              "      <td>1.0</td>\n",
              "      <td>0.2</td>\n",
              "      <td>Iris-setosa</td>\n",
              "    </tr>\n",
              "    <tr>\n",
              "      <th>24</th>\n",
              "      <td>25</td>\n",
              "      <td>4.8</td>\n",
              "      <td>3.4</td>\n",
              "      <td>1.9</td>\n",
              "      <td>0.2</td>\n",
              "      <td>Iris-setosa</td>\n",
              "    </tr>\n",
              "    <tr>\n",
              "      <th>29</th>\n",
              "      <td>30</td>\n",
              "      <td>4.7</td>\n",
              "      <td>3.2</td>\n",
              "      <td>1.6</td>\n",
              "      <td>0.2</td>\n",
              "      <td>Iris-setosa</td>\n",
              "    </tr>\n",
              "    <tr>\n",
              "      <th>30</th>\n",
              "      <td>31</td>\n",
              "      <td>4.8</td>\n",
              "      <td>3.1</td>\n",
              "      <td>1.6</td>\n",
              "      <td>0.2</td>\n",
              "      <td>Iris-setosa</td>\n",
              "    </tr>\n",
              "    <tr>\n",
              "      <th>34</th>\n",
              "      <td>35</td>\n",
              "      <td>4.9</td>\n",
              "      <td>3.1</td>\n",
              "      <td>1.5</td>\n",
              "      <td>0.1</td>\n",
              "      <td>Iris-setosa</td>\n",
              "    </tr>\n",
              "    <tr>\n",
              "      <th>37</th>\n",
              "      <td>38</td>\n",
              "      <td>4.9</td>\n",
              "      <td>3.1</td>\n",
              "      <td>1.5</td>\n",
              "      <td>0.1</td>\n",
              "      <td>Iris-setosa</td>\n",
              "    </tr>\n",
              "    <tr>\n",
              "      <th>38</th>\n",
              "      <td>39</td>\n",
              "      <td>4.4</td>\n",
              "      <td>3.0</td>\n",
              "      <td>1.3</td>\n",
              "      <td>0.2</td>\n",
              "      <td>Iris-setosa</td>\n",
              "    </tr>\n",
              "    <tr>\n",
              "      <th>41</th>\n",
              "      <td>42</td>\n",
              "      <td>4.5</td>\n",
              "      <td>2.3</td>\n",
              "      <td>1.3</td>\n",
              "      <td>0.3</td>\n",
              "      <td>Iris-setosa</td>\n",
              "    </tr>\n",
              "    <tr>\n",
              "      <th>42</th>\n",
              "      <td>43</td>\n",
              "      <td>4.4</td>\n",
              "      <td>3.2</td>\n",
              "      <td>1.3</td>\n",
              "      <td>0.2</td>\n",
              "      <td>Iris-setosa</td>\n",
              "    </tr>\n",
              "    <tr>\n",
              "      <th>45</th>\n",
              "      <td>46</td>\n",
              "      <td>4.8</td>\n",
              "      <td>3.0</td>\n",
              "      <td>1.4</td>\n",
              "      <td>0.3</td>\n",
              "      <td>Iris-setosa</td>\n",
              "    </tr>\n",
              "    <tr>\n",
              "      <th>47</th>\n",
              "      <td>48</td>\n",
              "      <td>4.6</td>\n",
              "      <td>3.2</td>\n",
              "      <td>1.4</td>\n",
              "      <td>0.2</td>\n",
              "      <td>Iris-setosa</td>\n",
              "    </tr>\n",
              "    <tr>\n",
              "      <th>57</th>\n",
              "      <td>58</td>\n",
              "      <td>4.9</td>\n",
              "      <td>2.4</td>\n",
              "      <td>3.3</td>\n",
              "      <td>1.0</td>\n",
              "      <td>Iris-versicolor</td>\n",
              "    </tr>\n",
              "    <tr>\n",
              "      <th>106</th>\n",
              "      <td>107</td>\n",
              "      <td>4.9</td>\n",
              "      <td>2.5</td>\n",
              "      <td>4.5</td>\n",
              "      <td>1.7</td>\n",
              "      <td>Iris-virginica</td>\n",
              "    </tr>\n",
              "  </tbody>\n",
              "</table>\n",
              "</div>"
            ],
            "text/plain": [
              "      Id  SepalLengthCm  SepalWidthCm  PetalLengthCm  PetalWidthCm  \\\n",
              "1      2            4.9           3.0            1.4           0.2   \n",
              "2      3            4.7           3.2            1.3           0.2   \n",
              "3      4            4.6           3.1            1.5           0.2   \n",
              "6      7            4.6           3.4            1.4           0.3   \n",
              "8      9            4.4           2.9            1.4           0.2   \n",
              "9     10            4.9           3.1            1.5           0.1   \n",
              "11    12            4.8           3.4            1.6           0.2   \n",
              "12    13            4.8           3.0            1.4           0.1   \n",
              "13    14            4.3           3.0            1.1           0.1   \n",
              "22    23            4.6           3.6            1.0           0.2   \n",
              "24    25            4.8           3.4            1.9           0.2   \n",
              "29    30            4.7           3.2            1.6           0.2   \n",
              "30    31            4.8           3.1            1.6           0.2   \n",
              "34    35            4.9           3.1            1.5           0.1   \n",
              "37    38            4.9           3.1            1.5           0.1   \n",
              "38    39            4.4           3.0            1.3           0.2   \n",
              "41    42            4.5           2.3            1.3           0.3   \n",
              "42    43            4.4           3.2            1.3           0.2   \n",
              "45    46            4.8           3.0            1.4           0.3   \n",
              "47    48            4.6           3.2            1.4           0.2   \n",
              "57    58            4.9           2.4            3.3           1.0   \n",
              "106  107            4.9           2.5            4.5           1.7   \n",
              "\n",
              "             Species  \n",
              "1        Iris-setosa  \n",
              "2        Iris-setosa  \n",
              "3        Iris-setosa  \n",
              "6        Iris-setosa  \n",
              "8        Iris-setosa  \n",
              "9        Iris-setosa  \n",
              "11       Iris-setosa  \n",
              "12       Iris-setosa  \n",
              "13       Iris-setosa  \n",
              "22       Iris-setosa  \n",
              "24       Iris-setosa  \n",
              "29       Iris-setosa  \n",
              "30       Iris-setosa  \n",
              "34       Iris-setosa  \n",
              "37       Iris-setosa  \n",
              "38       Iris-setosa  \n",
              "41       Iris-setosa  \n",
              "42       Iris-setosa  \n",
              "45       Iris-setosa  \n",
              "47       Iris-setosa  \n",
              "57   Iris-versicolor  \n",
              "106   Iris-virginica  "
            ]
          },
          "execution_count": 12,
          "metadata": {},
          "output_type": "execute_result"
        }
      ],
      "source": [
        "iris_data[iris_data.SepalLengthCm < 5] "
      ]
    },
    {
      "cell_type": "markdown",
      "metadata": {
        "id": "Pewat-AynZjB"
      },
      "source": [
        "## Requirement on NumPy and Pandas\n",
        "\n",
        "Test your knowledge in this requirement"
      ]
    },
    {
      "cell_type": "code",
      "execution_count": 14,
      "metadata": {
        "id": "8E-dp02odgxB"
      },
      "outputs": [],
      "source": [
        "# Do the necessary imports here as you proceed in the requirement. \n",
        "import numpy as np\n",
        "import pandas as pd\n",
        "import time\n",
        "np.random.seed(0) # Do not change this line"
      ]
    },
    {
      "cell_type": "code",
      "execution_count": 15,
      "metadata": {
        "id": "ZXjh05OKnZjC"
      },
      "outputs": [
        {
          "name": "stdout",
          "output_type": "stream",
          "text": [
            "[0. 0. 0.]\n"
          ]
        }
      ],
      "source": [
        "# [1] Define a numpy array A of zeros of size 3 in one line.\n",
        "A = np.zeros(3)\n",
        "print(A)"
      ]
    },
    {
      "cell_type": "code",
      "execution_count": 18,
      "metadata": {
        "id": "pf9UUodinZjD"
      },
      "outputs": [],
      "source": [
        "## Test your code (No errors should be displayed)\n",
        "assert np.any(A!=0) != True, \"All elements of array A should be 0\"\n",
        "assert A.shape[0] == 3, \"Array A should be of shape (3,1) or (3,)\""
      ]
    },
    {
      "cell_type": "code",
      "execution_count": 19,
      "metadata": {
        "id": "EEn0GkO7nZjG"
      },
      "outputs": [
        {
          "name": "stdout",
          "output_type": "stream",
          "text": [
            "[[1. 1. 1.]\n",
            " [1. 1. 1.]\n",
            " [1. 1. 1.]\n",
            " [1. 1. 1.]\n",
            " [1. 1. 1.]]\n"
          ]
        }
      ],
      "source": [
        "# [2] Define a numpy array B of ones of size 5 x 3 in one line.\n",
        "B = np.ones((5,3))\n",
        "print(B)"
      ]
    },
    {
      "cell_type": "code",
      "execution_count": 20,
      "metadata": {
        "id": "UUKR0GW0nZjI"
      },
      "outputs": [],
      "source": [
        "## Test your code \n",
        "assert np.any(B!=1)==False, \"All elements of array B should be 1\"\n",
        "assert B.shape == (5,3), \"Array B should be of shape (5,3)\""
      ]
    },
    {
      "cell_type": "markdown",
      "metadata": {
        "id": "xW6ox3V5nZjJ"
      },
      "source": [
        "|  |  |  |  |  |\n",
        "|---|---|---|---|----|\n",
        "| 2 | 4 | 0 | 1 | -3 |\n",
        "| 5 | **3** | **2** | **8** | 7 |\n",
        "| 4 | **6** | **9** | **3** | 2 |\n"
      ]
    },
    {
      "cell_type": "code",
      "execution_count": 21,
      "metadata": {
        "id": "N0dFkal3nZjK"
      },
      "outputs": [
        {
          "name": "stdout",
          "output_type": "stream",
          "text": [
            "[[ 2  4  0  1 -3]\n",
            " [ 5  3  2  8  7]\n",
            " [ 4  6  9  3  2]]\n"
          ]
        }
      ],
      "source": [
        "# [3] Define a numpy array C containing the values above in one line\n",
        "C = np.array([[2, 4, 0, 1, -3],[5, 3, 2, 8, 7],[4, 6, 9, 3, 2]])\n",
        "print(C)"
      ]
    },
    {
      "cell_type": "code",
      "execution_count": 22,
      "metadata": {
        "id": "yQM1cGKVnZjN"
      },
      "outputs": [],
      "source": [
        "## Test your code \n",
        "assert C.shape == (3,5), \"Array C should be of shape (3,5)\""
      ]
    },
    {
      "cell_type": "code",
      "execution_count": 32,
      "metadata": {
        "id": "TALj7yE2nZjO"
      },
      "outputs": [
        {
          "name": "stdout",
          "output_type": "stream",
          "text": [
            "3\n",
            "[[ 2  5  4]\n",
            " [ 4  3  6]\n",
            " [ 0  2  9]\n",
            " [ 1  8  3]\n",
            " [-3  7  2]]\n",
            "[[ 2  5  4]\n",
            " [ 4  3  6]\n",
            " [ 0  2  9]\n",
            " [ 1  8  3]\n",
            " [-3  7  2]]\n"
          ]
        }
      ],
      "source": [
        "# [4] Transpose the array C and store the transpose in array D. \n",
        "## (Do this using two different methods for transposing the array)\n",
        "D = C.T\n",
        "X = np.transpose(C)\n",
        "print(D)\n",
        "print(X)"
      ]
    },
    {
      "cell_type": "code",
      "execution_count": 33,
      "metadata": {
        "id": "pkzLzyJnnZjP"
      },
      "outputs": [],
      "source": [
        "## Test your code \n",
        "assert D.shape == (5,3), \"Array D should be of shape (5,3)\""
      ]
    },
    {
      "cell_type": "code",
      "execution_count": 34,
      "metadata": {
        "id": "ZXr_BEbTnZjQ"
      },
      "outputs": [
        {
          "name": "stdout",
          "output_type": "stream",
          "text": [
            "[[ 7  9  5  6  2]\n",
            " [10  8  7 13 12]\n",
            " [ 9 11 14  8  7]]\n"
          ]
        }
      ],
      "source": [
        "# [5] Add to every element in C a constant value of 5 and store the array in E in one line. \n",
        "## (What will happen if C was a list and not a numpy array? Provide a textual answer for that question after you try it in a side cell)\n",
        "E = C + 5\n",
        "print(E)\n",
        "\n",
        "#We would get an error because we can only add lists together (Python does not broadcast.)"
      ]
    },
    {
      "cell_type": "code",
      "execution_count": 184,
      "metadata": {},
      "outputs": [],
      "source": [
        "#C_list = [[2, 4, 0, 1, -3],[5, 3, 2, 8, 7],[4, 6, 9, 3, 2]]\n",
        "#E_list = C_list + 5"
      ]
    },
    {
      "cell_type": "code",
      "execution_count": 36,
      "metadata": {
        "id": "LCo9AZtZnZjR"
      },
      "outputs": [],
      "source": [
        "## Test your code \n",
        "assert E.shape == (3,5), \"Array E should be of shape (3,5)\"\n",
        "diff = E - C\n",
        "assert np.all(diff==5), \"E is not correctly calculated\""
      ]
    },
    {
      "cell_type": "code",
      "execution_count": 38,
      "metadata": {
        "id": "yPJR52eLnZjT"
      },
      "outputs": [
        {
          "name": "stdout",
          "output_type": "stream",
          "text": [
            "[[3 2 8]\n",
            " [6 9 3]]\n"
          ]
        }
      ],
      "source": [
        "# [6] Extract the bold elements in C and store the submatrix in array F in one line. \n",
        "F = C[1:,1:4]\n",
        "print(F)"
      ]
    },
    {
      "cell_type": "code",
      "execution_count": 39,
      "metadata": {
        "id": "ZHgOO95SnZjU"
      },
      "outputs": [],
      "source": [
        "## Test your code \n",
        "assert F.shape == (2,3), \"Array F should be of shape (2,3)\"\n",
        "assert F[0,0] == F[1,2] == 3, \"Wrong slicing\""
      ]
    },
    {
      "cell_type": "code",
      "execution_count": 45,
      "metadata": {
        "id": "eZoet9_GnZjV"
      },
      "outputs": [
        {
          "name": "stdout",
          "output_type": "stream",
          "text": [
            "[[ 2  4  0  1 -3  5  3  2  8  7  4  6  9  3  2]]\n"
          ]
        }
      ],
      "source": [
        "# [7]  Reshape the matrix C into another array G of shape (1, 15) in one line.\n",
        "## Hint: what does np.reshape(1,-1) do? What does the negative mean here? (Provide a textual answer for that question)\n",
        "G = C.reshape(1, -1)\n",
        "print(G)\n",
        "\n",
        "# The -1 means we're letting numpy solve for the other dimension by considering x in given_dim * x = array_size"
      ]
    },
    {
      "cell_type": "code",
      "execution_count": 46,
      "metadata": {
        "id": "SSR7HLRqnZjX"
      },
      "outputs": [],
      "source": [
        "## Test your code \n",
        "assert G.shape == (1,15), \"Array G should be of shape (1,15)\""
      ]
    },
    {
      "cell_type": "code",
      "execution_count": 48,
      "metadata": {
        "id": "fhtkt8JWnZjc"
      },
      "outputs": [
        {
          "name": "stdout",
          "output_type": "stream",
          "text": [
            "[[ True  True  True False False False False  True  True False  True  True\n",
            "  False False  True]]\n"
          ]
        }
      ],
      "source": [
        "# [8] Which elements of G are even numbers? \n",
        "# Return a boolean array H such that elements corresponding to even numbers are considered TRUE and those \n",
        "# corresponding to odd numbers are considered FALSE. \n",
        "H = G%2==0\n",
        "print(H)"
      ]
    },
    {
      "cell_type": "code",
      "execution_count": 49,
      "metadata": {
        "id": "g5Vs9bTQnZjd"
      },
      "outputs": [],
      "source": [
        "## Test your code \n",
        "assert np.sum(H) == 8, \"Array H returned True for Odd elements\""
      ]
    },
    {
      "cell_type": "code",
      "execution_count": 50,
      "metadata": {
        "id": "Wx2oVG9lnZje"
      },
      "outputs": [
        {
          "name": "stdout",
          "output_type": "stream",
          "text": [
            "[2 4 0 2 8 4 6 2]\n"
          ]
        }
      ],
      "source": [
        "# [9]  Return a vector J containing the actual elements that are even in one line\n",
        "J = G[G%2 == 0]\n",
        "print(J)"
      ]
    },
    {
      "cell_type": "code",
      "execution_count": 51,
      "metadata": {
        "id": "1EzI_kNbnZjg"
      },
      "outputs": [],
      "source": [
        "## Test your code \n",
        "assert np.sum(J)==28, \"Array J returned Odd elements\""
      ]
    },
    {
      "cell_type": "code",
      "execution_count": 54,
      "metadata": {
        "id": "EMHW1o-3nZjh"
      },
      "outputs": [
        {
          "name": "stdout",
          "output_type": "stream",
          "text": [
            "[[0.5488135  0.71518937 0.60276338]\n",
            " [0.54488318 0.4236548  0.64589411]\n",
            " [0.43758721 0.891773   0.96366276]\n",
            " [0.38344152 0.79172504 0.52889492]\n",
            " [0.56804456 0.92559664 0.07103606]]\n"
          ]
        }
      ],
      "source": [
        "np.random.seed(0) #Do not change this line\n",
        "# [10] Define a random array L 5 x 3 in one line. (use np.random.rand(shape))\n",
        "L = np.random.rand(5, 3)      #unlike zeros, ones,... this takes a decomposed tuple.\n",
        "print(L)"
      ]
    },
    {
      "cell_type": "code",
      "execution_count": 55,
      "metadata": {
        "id": "-AZyi-BQnZji"
      },
      "outputs": [],
      "source": [
        "## Test your code \n",
        "assert L.shape == (5,3), \"Array L should be of shape (5,3)\""
      ]
    },
    {
      "cell_type": "code",
      "execution_count": null,
      "metadata": {
        "id": "rnocP6LYnZjj"
      },
      "outputs": [],
      "source": [
        "# [11] What is the difference between np.random.rand() and np.random.randn()?\n",
        "\n",
        "## ANSWER: \n",
        "\"\"\"\n",
        "rand draws samples from a uniform distribution in the range 0 to 1 (hence, height = 0.5)\n",
        "It's unpreedictable, we can get any number from that range because the likelihood of observing any of them is the same.\n",
        "\n",
        "Meanwhile, randn draws samples from the standard normal distrubtion. We can get any real number, however because the \n",
        "distribution is centered around 0 small numers are more probable. In fact the probability that the number we get is\n",
        "in the range [-3σ. 3σ] is 99.99966%.\n",
        "\n",
        "We can try to reconstruct the probability distributions form the samples by running many many iterations\n",
        "\"\"\"\n",
        "\n",
        "### HINT: read (https://numpy.org/devdocs/reference/random/generated/numpy.random.randn.html)\n",
        "###       read (https://numpy.org/devdocs/reference/random/generated/numpy.random.rand.html)"
      ]
    },
    {
      "cell_type": "code",
      "execution_count": 58,
      "metadata": {
        "id": "vAJocXR8nZjo"
      },
      "outputs": [
        {
          "name": "stdout",
          "output_type": "stream",
          "text": [
            "[[ 1.09762701  3.57594683  2.4110535 ]\n",
            " [ 2.17953273  1.2709644   3.87536468]\n",
            " [ 0.          1.783546    8.67296484]\n",
            " [ 0.38344152  6.3338003   1.58668476]\n",
            " [-1.70413368  6.47917647  0.14207212]]\n",
            "[[ 1.09762701  3.57594683  2.4110535 ]\n",
            " [ 2.17953273  1.2709644   3.87536468]\n",
            " [ 0.          1.783546    8.67296484]\n",
            " [ 0.38344152  6.3338003   1.58668476]\n",
            " [-1.70413368  6.47917647  0.14207212]]\n"
          ]
        }
      ],
      "source": [
        "# [12] Perform element-wise multiplication between D and L by two different methods, each in one line.\n",
        "element_wise = D * L\n",
        "element_wise = np.multiply(D, L)\n",
        "print(element_wise)"
      ]
    },
    {
      "cell_type": "code",
      "execution_count": 59,
      "metadata": {
        "id": "BrhL0ufJnZjp"
      },
      "outputs": [],
      "source": [
        "## Test your code \n",
        "assert element_wise.shape == (5,3), \"Element wise multiplication should give array of the same size\""
      ]
    },
    {
      "cell_type": "code",
      "execution_count": 60,
      "metadata": {
        "id": "QrZNwk8SnZjq"
      },
      "outputs": [
        {
          "name": "stdout",
          "output_type": "stream",
          "text": [
            "[[ 7.08462734  5.79161681  9.18869047  6.84108791  6.04821655]\n",
            " [ 7.95740237  7.32586181 10.20764441  7.08231071  5.47518451]\n",
            " [ 6.85524912  6.66035662 10.45651085  6.34350435  2.4905178 ]\n",
            " [ 8.07861856  5.87180392 10.4627595   8.30392658  8.18592584]\n",
            " [ 4.5654118   2.62272227  6.85697489  5.44954055  4.9171149 ]]\n",
            "[[ 7.08462734  5.79161681  9.18869047  6.84108791  6.04821655]\n",
            " [ 7.95740237  7.32586181 10.20764441  7.08231071  5.47518451]\n",
            " [ 6.85524912  6.66035662 10.45651085  6.34350435  2.4905178 ]\n",
            " [ 8.07861856  5.87180392 10.4627595   8.30392658  8.18592584]\n",
            " [ 4.5654118   2.62272227  6.85697489  5.44954055  4.9171149 ]]\n"
          ]
        }
      ],
      "source": [
        "# [13] Do a matrix multiplication between D and the transpose of L using two different methods, each in one line.\n",
        "mat_multiplication_1 = np.dot(D, L.T)\n",
        "mat_multiplication_2 = D @ L.T\n",
        "print(mat_multiplication_2)"
      ]
    },
    {
      "cell_type": "code",
      "execution_count": 61,
      "metadata": {
        "id": "KbV7DRWpnZjr"
      },
      "outputs": [],
      "source": [
        "## Test your code \n",
        "assert mat_multiplication_1.shape == (5,5), \"Matrix multiplication of (5*3) and (3,5) should give array of shape (5,5)\"\n",
        "assert mat_multiplication_2.shape == (5,5), \"Matrix multiplication of (5*3) and (3,5) should give array of shape (5,5)\""
      ]
    },
    {
      "cell_type": "code",
      "execution_count": 67,
      "metadata": {
        "id": "EaUugvcmnZjs"
      },
      "outputs": [
        {
          "name": "stdout",
          "output_type": "stream",
          "text": [
            "6 [6 7] [6 7 8]\n"
          ]
        }
      ],
      "source": [
        "# [14] We want to implement a function that computes y = sqrt(9-x^2). Write a function that accepts all these calls. \n",
        "\n",
        "#y1 = func(3)\n",
        "#y2 = func(np.array([3,2]))\n",
        "#y3 = func(np.array([3,2,1]))\n",
        "\n",
        "def func(x):\n",
        "     return (9-x**2)**0.5\n",
        "\n",
        "#Numply handles any needed vectorization (applying the formula element-wise)"
      ]
    },
    {
      "cell_type": "code",
      "execution_count": 65,
      "metadata": {
        "id": "s275t6BvmpVs"
      },
      "outputs": [],
      "source": [
        "assert func(3) == 0\n",
        "assert np.all(func(np.array([3,3])) == 0)\n",
        "assert np.all(func(np.array([3,3,3])) == 0)"
      ]
    },
    {
      "cell_type": "code",
      "execution_count": 98,
      "metadata": {
        "id": "uZSvw0ymnZju"
      },
      "outputs": [
        {
          "name": "stdout",
          "output_type": "stream",
          "text": [
            "0.005454063415527344\n",
            "0.003936052322387695\n",
            "0.0003719329833984375\n"
          ]
        }
      ],
      "source": [
        "np.random.seed(0) #Do not change this line\n",
        "# [15] Generate a random array M of size 100,000 . Use np.random.randint. \n",
        "M = np.random.randint(low=-3, high=20, size=(100,100))\n",
        "\n",
        "# [15a] Retrieve the elements greater than zero using for loop. Place your code between timers as shown.\n",
        "start = time.time()\n",
        "positives = []\n",
        "for i in range(M.shape[0]):\n",
        "   for j in range(M.shape[1]):\n",
        "      if M[i,j] > 0:\n",
        "         positives.append(M[i,j])\n",
        "end = time.time()\n",
        "print(end - start)\n",
        "\n",
        "# Can have a single loop using the nd iterator. (bonus)\n",
        "positives = []\n",
        "for x in np.nditer(M):\n",
        "      if x > 0:   positives.append(x.item())\n",
        "\n",
        "# [15b] Retrieve the elements greater than zero using list comprehension. Place your code between timers as shown.\n",
        "start = time.time()\n",
        "positives = [ M[i,j] for i in range(M.shape[0]) for j in range(M.shape[1]) if M[i,j]>0]\n",
        "#positives = [y for x in M for y in x if y > 0]    #works, can also just use the nd iterator\n",
        "end = time.time()\n",
        "print(end - start)\n",
        "\n",
        "\n",
        "# [15c] Retrieve the elements greater than zero using vectorization (masking). Place your code between timers as shown. \n",
        "start = time.time()\n",
        "positives = M[M>0]\n",
        "end = time.time()\n",
        "print(end - start)\n",
        "\n",
        "# Don't ever run this again (different times -> different calculations xD)"
      ]
    },
    {
      "cell_type": "code",
      "execution_count": 102,
      "metadata": {
        "id": "j5HIMX2-cm9p"
      },
      "outputs": [
        {
          "name": "stdout",
          "output_type": "stream",
          "text": [
            "958.2692307692307\n",
            "1366.4102564102564\n",
            "38.56684232842691\n"
          ]
        }
      ],
      "source": [
        "# [16] Compare between the difference between time elapsed using loop, list comprehension and vectorization respectively.\n",
        "# Provide a textual answer. Can you compute the gain in performance in each? (Do not write code for that. You can just calculate it)\n",
        "print((0.003936052322387695/0.0003719329833984375 - 1)*100)          \n",
        "print((0.005454063415527344/0.0003719329833984375 - 1)*100)          \n",
        "print((0.005454063415527344/0.003936052322387695 - 1)*100)          \n"
      ]
    },
    {
      "cell_type": "markdown",
      "metadata": {},
      "source": [
        "$$Perf_{A\\:over\\:B} = \\frac{|Perf_A - Perf_B|}{Perf_B} $$\n",
        "Taking $Perf = Time^{-1}$ we get,\n",
        "$$Perf_{A\\:over\\:B} = \\frac{Time_B}{Time_A}-1$$\n",
        "Thus, \n",
        "$$Perf_{mask\\:over\\:comprehension} = \\frac{0.003936052322387695\n",
        "}{0.0003719329833984375}-1 = 958\\%$$\n",
        "$$Perf_{mask\\:over\\:nesting} = \\frac{0.005454063415527344\n",
        "}{0.0003719329833984375}-1 = 1366\\% $$\n",
        "$$Perf_{comprehension\\:over\\:nesting} = \\frac{0.005454063415527344\n",
        "}{0.003936052322387695}-1 = 38.57\\%$$\n",
        "\n",
        "\n"
      ]
    },
    {
      "cell_type": "code",
      "execution_count": 104,
      "metadata": {
        "id": "jy_iOXWocy5T"
      },
      "outputs": [
        {
          "name": "stdout",
          "output_type": "stream",
          "text": [
            "9\n",
            "3\n"
          ]
        }
      ],
      "source": [
        "N = np.array([2,1,7,9,4,6])\n",
        "# [17] Find the maximum element in N its index \n",
        "max = np.max(N)           # can also do N[np.argmax(N)]\n",
        "maxIndex = np.argmax(N)\n",
        "print(max)\n",
        "print(maxIndex)"
      ]
    },
    {
      "cell_type": "code",
      "execution_count": 105,
      "metadata": {
        "id": "XyXBd1GBdxlK"
      },
      "outputs": [
        {
          "name": "stdout",
          "output_type": "stream",
          "text": [
            "7.8974\n",
            "6.600566130264888\n"
          ]
        }
      ],
      "source": [
        "# [18] Find the mean and standard deviation of values in M\n",
        "mean = M.mean()\n",
        "std_dev = M.std()\n",
        "print(mean)\n",
        "print(std_dev)"
      ]
    },
    {
      "cell_type": "code",
      "execution_count": 110,
      "metadata": {
        "id": "xdYFOLUqd4ox"
      },
      "outputs": [
        {
          "name": "stdout",
          "output_type": "stream",
          "text": [
            "   0  1  2\n",
            "0  1  2  1\n",
            "1  5  6  1\n",
            "2  7  8  0\n",
            "3  9  4  1\n",
            "4  3  2  0\n",
            "5  6  1  0\n",
            "6  1  2  1\n",
            "7  0  0  0\n",
            "8 -1 -3  1\n",
            "9 -2 -4  1\n",
            "[[ 1  2  1]\n",
            " [ 5  6  1]\n",
            " [ 7  8  0]\n",
            " [ 9  4  1]\n",
            " [ 3  2  0]\n",
            " [ 6  1  0]\n",
            " [ 1  2  1]\n",
            " [ 0  0  0]\n",
            " [-1 -3  1]\n",
            " [-2 -4  1]]\n"
          ]
        }
      ],
      "source": [
        "# [19a] Read the csv file \"test.csv\" into an a numpy array N\n",
        "N =  pd.read_csv('test.txt', sep=\",\", header=None)    #header is none as it has no row for column names.\n",
        "print(N)             #the row/column label index gets printed along the way\n",
        "\n",
        "# [19b] Convert N into numpy array. (Hint: use np.asarray())\n",
        "N = np.asarray(N)               # could've called np.asarray(pd.read...) to do it on one line.\n",
        "print(N)"
      ]
    },
    {
      "cell_type": "code",
      "execution_count": 111,
      "metadata": {
        "id": "AusW7FmpevE1"
      },
      "outputs": [],
      "source": [
        "## Test your code \n",
        "assert N.shape == (10,3), \"Incorrect dimensions of N\""
      ]
    },
    {
      "cell_type": "code",
      "execution_count": 122,
      "metadata": {
        "id": "CKFmKmdQe7hT"
      },
      "outputs": [
        {
          "name": "stdout",
          "output_type": "stream",
          "text": [
            "[1 1 0 1 0 0 1 0 1 1]\n",
            "[1 1 0 1 0 0 1 0 1 1]\n",
            "[[ 1  2  1]\n",
            " [ 5  6  1]\n",
            " [ 9  4  1]\n",
            " [ 1  2  1]\n",
            " [-1 -3  1]\n",
            " [-2 -4  1]]\n"
          ]
        }
      ],
      "source": [
        "# [20] Print only the rows containing (1) in the last column for each row of matrix N IN ONE LINE. This should print rows 0, 1, 3, 6, 8, and 9.\n",
        "# This should print actual rows not the number of rows. Assign the output of this selection to variable O\n",
        "#print(N[:,2])          #extract the last column\n",
        "#print(N[:,2]==1)       #get a T/F vector for when it's 0/1\n",
        "O = N[N[:,2]==1]        #use it to filter elements in the array \n",
        "print(N[:,2])\n",
        "print(O)"
      ]
    },
    {
      "cell_type": "code",
      "execution_count": 134,
      "metadata": {
        "id": "JHS5wJ1JtnMC"
      },
      "outputs": [],
      "source": [
        "## Test your code \n",
        "assert O.shape == (6,3), \"Incorrect dimensions of O\"\n",
        "assert np.all(O[:,2] == 1), \"Wrong slicing or masking\""
      ]
    },
    {
      "cell_type": "code",
      "execution_count": 135,
      "metadata": {
        "id": "OzEpZM7lfY0Z"
      },
      "outputs": [
        {
          "name": "stdout",
          "output_type": "stream",
          "text": [
            "[[ 1  2]\n",
            " [ 5  6]\n",
            " [ 9  4]\n",
            " [ 1  2]\n",
            " [-1 -3]\n",
            " [-2 -4]]\n"
          ]
        }
      ],
      "source": [
        "# [21] Print only the first two elements of rows containing (1) in the last column for each row of matrix N in ONE LINE. \n",
        "# This should print the first two columns of the same lines as the previous requirement.\n",
        "# Assign the output of this selection to variable P\n",
        "P = O[:,:2]    #take all rows from O for columns take the 0th and the 1st\n",
        "print(P)"
      ]
    },
    {
      "cell_type": "code",
      "execution_count": 136,
      "metadata": {
        "id": "F1zmGodHuhqg"
      },
      "outputs": [],
      "source": [
        "## Test your code \n",
        "assert P.shape == (6,2), \"Incorrect dimensions of P\"\n",
        "assert np.sum(P) == 20, \"Wrong slicing or masking\""
      ]
    },
    {
      "cell_type": "code",
      "execution_count": 138,
      "metadata": {
        "id": "t6Rja269fzv2"
      },
      "outputs": [
        {
          "name": "stdout",
          "output_type": "stream",
          "text": [
            "[2.9 1.8 0.6]\n"
          ]
        }
      ],
      "source": [
        "# [22] Display the mean value for each column in N in ONE LINE. Hint: Check the axis dimension. \n",
        "mean = np.mean(N, axis=0)\n",
        "print(mean)"
      ]
    },
    {
      "cell_type": "markdown",
      "metadata": {
        "id": "qeK1a8q7nZj8"
      },
      "source": [
        "# MatplotLib\n",
        "\n",
        "Matplotlib is one of the most famous and used libraries for visualizations in Python. It has a very expressive API for most used types of graphs."
      ]
    },
    {
      "cell_type": "code",
      "execution_count": 139,
      "metadata": {
        "id": "4zfXysAPnZj8"
      },
      "outputs": [],
      "source": [
        "# import MatplotLib to your work file\n",
        "from matplotlib import pyplot as plt\n",
        "import pandas as pd\n",
        "\n",
        "iris_data = pd.read_csv('Iris.csv') ## we will use these data for plotting"
      ]
    },
    {
      "cell_type": "markdown",
      "metadata": {
        "id": "IxmKdccxnZj9"
      },
      "source": [
        "## Line Plots\n",
        "Line plots are typically used to visualize continuous data sequences like time series, e.g., readings from a sensor, stock market daily data, etc.\n",
        "\n",
        "1. Plotting one variable \n",
        "\n",
        "By default, pyplot will plot that variable against a sequence of its length starting at 0"
      ]
    },
    {
      "cell_type": "code",
      "execution_count": 140,
      "metadata": {
        "id": "5GJ9z7honZj9"
      },
      "outputs": [
        {
          "data": {
            "image/png": "[encoded data removed]",
            "text/plain": [
              "<Figure size 432x288 with 1 Axes>"
            ]
          },
          "metadata": {
            "needs_background": "light"
          },
          "output_type": "display_data"
        }
      ],
      "source": [
        "plt.plot(iris_data.SepalLengthCm.values)  #choose by column then plot!\n",
        "plt.show()"
      ]
    },
    {
      "cell_type": "markdown",
      "metadata": {
        "id": "Lbeyhx8CnZj-"
      },
      "source": [
        "2. Plotting two variables against each other"
      ]
    },
    {
      "cell_type": "code",
      "execution_count": 144,
      "metadata": {
        "id": "RTyCy3-rnZj-"
      },
      "outputs": [
        {
          "data": {
            "image/png": "[encoded data removed]",
            "text/plain": [
              "<Figure size 432x288 with 1 Axes>"
            ]
          },
          "metadata": {
            "needs_background": "light"
          },
          "output_type": "display_data"
        }
      ],
      "source": [
        "plt.plot(iris_data.SepalLengthCm.values, iris_data.SepalWidthCm.values, marker='o')    #interpolates the points to give you the trend.\n",
        "plt.show()"
      ]
    },
    {
      "cell_type": "code",
      "execution_count": 142,
      "metadata": {
        "id": "COj_p7fanZj_"
      },
      "outputs": [
        {
          "data": {
            "image/png": "[encoded data removed]",
            "text/plain": [
              "<Figure size 432x288 with 1 Axes>"
            ]
          },
          "metadata": {
            "needs_background": "light"
          },
          "output_type": "display_data"
        }
      ],
      "source": [
        "# Plotting Known functions: f(x) = x^2 will give a parabola centered at Zero\n",
        "x = np.linspace(-100, 100)\n",
        "plt.plot(x, x**2)\n",
        "plt.show()"
      ]
    },
    {
      "cell_type": "markdown",
      "metadata": {
        "id": "vd8ulmI5nZkA"
      },
      "source": [
        "## Scatter Plots\n",
        "Scatter is almost always the first plot to try with unordered data samples.\n",
        "It places shapes at the data points' location"
      ]
    },
    {
      "cell_type": "code",
      "execution_count": 143,
      "metadata": {
        "id": "cwNwaX3MnZkA"
      },
      "outputs": [
        {
          "data": {
            "image/png": "[encoded data removed]",
            "text/plain": [
              "<Figure size 432x288 with 1 Axes>"
            ]
          },
          "metadata": {
            "needs_background": "light"
          },
          "output_type": "display_data"
        }
      ],
      "source": [
        "plt.scatter(iris_data.SepalLengthCm.values, iris_data.SepalWidthCm.values)\n",
        "plt.show()\n",
        "#Pretty much plots the dataset (150 points) but only considering two features."
      ]
    },
    {
      "cell_type": "markdown",
      "metadata": {
        "id": "c6AzOa4gnZkB"
      },
      "source": [
        "**OBSERVE** how using the Scatter plot gives a more meaningful graph than the line plot. Here: scatter plot shows how the Sepal Length is distributed against the Width (dense at certain values and scarce at others). This distribution was not shown in the line plot.\n",
        "\n",
        "Plotting your data can help you understand things about them. Using the **correct** plot is important.  "
      ]
    },
    {
      "cell_type": "markdown",
      "metadata": {
        "id": "DKQCKl0XnZkB"
      },
      "source": [
        "## Histogram Plots\n",
        "Histogram counts the values frequencies. For example, an array of values `[1, 1, 2, 3, 3, 5, 5, 5, 5]` will have a histogram like this: \n",
        "`[\n",
        "1: 2, # because 1 is repeated twice\n",
        "2: 1, # because 2 exists only once\n",
        "3: 2,\n",
        "5: 4\n",
        "]`\n",
        "\n",
        "PyPlot has a built in `hist` function to plot histogram of values easily."
      ]
    },
    {
      "cell_type": "code",
      "execution_count": 145,
      "metadata": {
        "id": "ZnECjZnInZkC"
      },
      "outputs": [
        {
          "data": {
            "image/png": "[encoded data removed]",
            "text/plain": [
              "<Figure size 432x288 with 1 Axes>"
            ]
          },
          "metadata": {
            "needs_background": "light"
          },
          "output_type": "display_data"
        }
      ],
      "source": [
        "plt.hist(iris_data.Species)\n",
        "plt.show()"
      ]
    },
    {
      "cell_type": "markdown",
      "metadata": {
        "id": "yNQXpqLPnZkD"
      },
      "source": [
        "## Pie Charts\n",
        "Pie charts can serve the same role as histograms, and sometimes better at understanding"
      ]
    },
    {
      "cell_type": "code",
      "execution_count": 147,
      "metadata": {
        "id": "7Kqig9zYnZkD"
      },
      "outputs": [
        {
          "data": {
            "image/png": "[encoded data removed]",
            "text/plain": [
              "<Figure size 432x288 with 1 Axes>"
            ]
          },
          "metadata": {},
          "output_type": "display_data"
        }
      ],
      "source": [
        "pie_data = iris_data.Species.value_counts() ## get the histogram but from pandas: the values_counts counts the frequency of each value\n",
        "plt.pie(pie_data.values, labels=pie_data.index, textprops={'color':\"w\"}) ## labels are given the spicies' names\n",
        "plt.show()"
      ]
    },
    {
      "cell_type": "markdown",
      "metadata": {
        "id": "aHGiGgzpnZkF"
      },
      "source": [
        "**NOTICE** the graph will not be printed until the function plt.show() is called.\n",
        "\n",
        "## Multiple Plots on the Same Figure\n",
        "\n",
        "It is useful for plotting multiple data on the same figure. \n",
        "\n",
        "For example: to plot both the SepalLengthCm (in red) and the PetalLengthCm (in blue) versus the SepalWidthCm"
      ]
    },
    {
      "cell_type": "code",
      "execution_count": 157,
      "metadata": {
        "id": "0Hlc5U3HnZkF"
      },
      "outputs": [
        {
          "data": {
            "image/png": "[encoded data removed]",
            "text/plain": [
              "<Figure size 432x288 with 1 Axes>"
            ]
          },
          "metadata": {
            "needs_background": "light"
          },
          "output_type": "display_data"
        }
      ],
      "source": [
        "plt.scatter(iris_data.SepalLengthCm.values, iris_data.SepalWidthCm.values, c='red', marker='s', alpha=0.8, edgecolors='none', s=25) ## s in marker means put a square at data points\n",
        "plt.scatter(iris_data.PetalLengthCm.values, iris_data.SepalWidthCm.values, c='blue', marker='^',  alpha=0.8, edgecolors='none', s=25) ## ^ means triangles\n",
        "plt.show()\n",
        "\n",
        "#alpha changes the transparency of the graph (points)\n",
        "#edgecolors='none' makes the graph look smoother (otherwise we can specify edge color for the squares/triangles)\n",
        "#s is the size for each shape\n"
      ]
    },
    {
      "cell_type": "markdown",
      "metadata": {
        "id": "KlgiwP9VnZkG"
      },
      "source": [
        "## Requirement on MatPlotLib\n",
        "\n",
        "For plotting, import matplotlib.pyplot as plt\n",
        "\n",
        "x = np.linspace(0,3,300)\n",
        "\n",
        "y = your_function(x)\n",
        "\n",
        "Plot x versus y in one line with red color.  What does np.linspace mean?\n"
      ]
    },
    {
      "cell_type": "code",
      "execution_count": 183,
      "metadata": {
        "id": "V_ZRCT9HnZkG"
      },
      "outputs": [
        {
          "data": {
            "image/png": "[encoded data removed]",
            "text/plain": [
              "<Figure size 432x288 with 1 Axes>"
            ]
          },
          "metadata": {
            "needs_background": "light"
          },
          "output_type": "display_data"
        }
      ],
      "source": [
        "## Answer:\n",
        "import matplotlib.pyplot as plt\n",
        "x = np.linspace(0,3,300)\n",
        "y = (np.exp(-x))*np.sin(20*x)\n",
        "plt.plot(x, y, color='r', linewidth=3)\n",
        "plt.show()\n",
        "\n",
        "#np.linspace(0,3,300) is a 1D NumPy array contains 300 equally-spaced nmbers between 0 and 3."
      ]
    }
  ],
  "metadata": {
    "colab": {
      "name": "Review_On_Python.ipynb",
      "provenance": [],
      "toc_visible": true
    },
    "kernelspec": {
      "display_name": "Python 3",
      "language": "python",
      "name": "python3"
    },
    "language_info": {
      "codemirror_mode": {
        "name": "ipython",
        "version": 3
      },
      "file_extension": ".py",
      "mimetype": "text/x-python",
      "name": "python",
      "nbconvert_exporter": "python",
      "pygments_lexer": "ipython3",
      "version": "3.8.8"
    }
  },
  "nbformat": 4,
  "nbformat_minor": 0
}
