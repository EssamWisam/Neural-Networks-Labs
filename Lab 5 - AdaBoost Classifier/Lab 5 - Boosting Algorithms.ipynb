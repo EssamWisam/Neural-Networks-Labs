{
 "cells": [
  {
   "cell_type": "markdown",
   "metadata": {},
   "source": [
    "# Lab 5 - Classifiers Boosting Algorithms\n",
    "\n",
    "In this lab, we will implement the AdaBoost algorithm as an ensemble learning technique which\n",
    "aims to combine a number of weak classifiers to yield a strong classifier at the end.\n",
    "The idea of this lab is to identify whether a tumor with given characteristics is malignant or\n",
    "benign. This is a two-class classification problem.\n",
    "\n",
    "## Dataset and Features\n",
    "\n",
    "You will be working on the dataset from *Hastie et al,* for breast tumor classification with 10 features representing the tumor's:\n",
    "\n",
    "                              1. Area            6. Texture\n",
    "                              2. Perimeter       7. Symmetry\n",
    "                              3. Radius          8. Greyscale Level\n",
    "                              4. Compactness     9. Fractal Dimension\n",
    "                              5. Concavity      10. Coastline Approximation.\n",
    "There is one output variable which is diagnosis. It takes one of two values `+1` for malignant and `-1` for benign."
   ]
  },
  {
   "cell_type": "markdown",
   "metadata": {},
   "source": [
    "### Question 1:\n",
    "Why it is sometimes better to have the two class values `+1` and `-1` instead of `+1`\n",
    "and `0`?\\\n",
    "**HINT :** Think about the voting scheme at the end of the boosting algorithm. How can the class values\n",
    "affect this scheme?"
   ]
  },
  {
   "cell_type": "code",
   "execution_count": 1,
   "metadata": {},
   "outputs": [
    {
     "data": {
      "text/plain": [
       "'\\n    Your answer: \\n    The derivation of Adaboost as a forward stage-wise additive model starts by assuming that the classifiers\\n    will give -1, 1 (by considering the exponential loss function.) Nonetheless, with the algorithm derivied the\\n    only thing that depends on the the class labes is the voting scheme. \\n\\n    The original voting scheme uses the sign of the summation to decide whether the alphas for the weak classifiers\\n    voting for the first class is greater than the sum of the alphas of the weak classifiers voting for the second\\n    class. In the slides however we covered a different formulation that checks for the same thing regardless to what\\n    labels we use for the classes.\\n'"
      ]
     },
     "execution_count": 1,
     "metadata": {},
     "output_type": "execute_result"
    }
   ],
   "source": [
    "'''\n",
    "    Your answer: \n",
    "    The derivation of Adaboost as a forward stage-wise additive model starts by assuming that the classifiers\n",
    "    will give -1, 1 (by considering the exponential loss function.) Nonetheless, with the algorithm derivied the\n",
    "    only thing that depends on the the class labes is the voting scheme. \n",
    "\n",
    "    The original voting scheme uses the sign of the summation to decide whether the alphas for the weak classifiers\n",
    "    voting for the first class is greater than the sum of the alphas of the weak classifiers voting for the second\n",
    "    class. In the slides however we covered a different formulation that checks for the same thing regardless to what\n",
    "    labels we use for the classes.\n",
    "'''"
   ]
  },
  {
   "cell_type": "markdown",
   "metadata": {},
   "source": [
    "## Requirement\n",
    "You are required to fill the function `adaboost_classifier(Y_train, X_train, Y_test, X_test, T, clf).`\\\n",
    "This function takes as parameters:\n",
    "\n",
    "| | |\n",
    "|:---|:-|\n",
    "| **Y_train**| The target values for the training set |\n",
    "| **X_train**| The input features for the training set.|\n",
    "| **Y_test**| The target values for the test set.|\n",
    "| **X_test**| The input features for the testing set.|\n",
    "| **T**| The number of iterations of the AdaBoost Algorithm.|\n",
    "| **clf**| The classifier to be used. (In our case, we are using a decision tree stump as a base classifier). You can use any other classifier.|\n",
    "\n",
    "This function should return two values:\n",
    "- The accuracy of the model on the training set.\n",
    "- The accuracy of the model on the test set.\n",
    "\n",
    "\n",
    "#### Fair Note:\n",
    "In the explanation video, we assumed that (T) is the number of models you want to fit. However, this is not always the case. You may have a model base (like here we have decision trees) and you are allowed to use as many of it as you can. So (T) here becomes the number of iterations where your goal is to enhance the performance with as few iterations as possible. \n",
    "\n",
    "Do not get confused:\n",
    "- If your case is you have T models only, we set T = number of models to fit.\n",
    "- If you are allowed to use as many models as you can (as many decision trees as you need), then T is the number of iterations to choose. In such case, T becomes a parameter controlled by the programmer."
   ]
  },
  {
   "cell_type": "code",
   "execution_count": 2,
   "metadata": {},
   "outputs": [],
   "source": [
    "## imports ##\n",
    "import pandas as pd\n",
    "import numpy as np\n",
    "from sklearn.tree import DecisionTreeClassifier\n",
    "from sklearn.model_selection import train_test_split\n",
    "from sklearn.datasets import make_hastie_10_2\n",
    "\n",
    "from utils import get_accuracy, get_error_rate, print_accuracy, plot_accuracy"
   ]
  },
  {
   "cell_type": "markdown",
   "metadata": {},
   "source": [
    "**NOTE** we prepared some utility functions to help you throughout the lab. please go and check the file *utils.py* and make sure you understand each function and know how to use it.\n",
    "\n",
    "### DONE: AdaBoost Implementation\n",
    "\n",
    "AdaBoost is an iterative algorithm that gives weights for the best classifier every iteration, updates weights of the data points, then repeats until convergence.\n",
    "\n",
    "The steps of the algorithm are:\n",
    "\n",
    "1. Initialize weights of the training examples:\n",
    "\n",
    "$$w_{m} = \\frac {1}{M}, m = 1,2,...M$$\n",
    "\n",
    "                                        M: number of training examples. \n",
    "\n",
    "2. For t=1 to $T$:\n",
    "\n",
    "    a) Select a classifier $h_{t}$ that best fits to the training data using weights $w_{m}$ of the training examples.\n",
    "\n",
    "    b) Compute error of $h_{t}$ as:\n",
    "$$err_{t} = \\frac {\\Sigma_{m=1}^{M} w_{m} \\phi (c_{m} \\neq h_{t}(x_{m}))}{\\Sigma_{m=1}^{M} w_{m}}$$\n",
    "\n",
    "    c) Compute weight of classifier:\n",
    "$$\\alpha_{t} = \\log (\\frac {1-err_{t}}{err_{t}} )$$\n",
    "\n",
    "    d) Update weights of wrongly classified examples:\n",
    "$$w_{m} = w_{m} * \\exp^{\\alpha_{t} \\phi (c_{m} \\neq h_{t}(x_{m}))}, \\space m = 1 ... M$$\n",
    "\n",
    "    e) Renormalize weights $w_{m}$\n",
    "\n",
    "\n",
    "\\\n",
    "3. Output: $C(x)= argmax_{k}\\space (\\space \\Sigma_{t=1}^{T} \\alpha_{t} * \\phi (h_{t}(x) = k)) \\space)$\n",
    "\n",
    "An interesting formula, perhaps. Suppose we have two classes (k=2), the class is either the first or the second depending on which yields the greater sum (in each sum we only look at the classifiers that agree with the result.)\n",
    "\n",
    "\n",
    "**Where** in step 2.B and 2.D, the $\\phi (y)$ function is called the *miss indicator* function that gives values:\n",
    "\n",
    "                                     1: if y is True\n",
    "                                     0: if y is False"
   ]
  },
  {
   "cell_type": "code",
   "execution_count": 3,
   "metadata": {},
   "outputs": [],
   "source": [
    "def adaboost_classifier(Y_train, X_train, Y_test, X_test, T, clf):      \n",
    "    # T is the no. of iterations.\n",
    "    # clf is the weak classifier\n",
    "    \n",
    "    #DONE: FILL THE FUNCTION with the implementation as the steps above\n",
    "\n",
    "    # DONE [1]: Initialize weights      \n",
    "    w = np.array([1/len(X_train) for x in X_train ])            # for e\n",
    "\n",
    "    ## DONE [2]:  Initialize the training and test predicted classes with empty array placeholders\n",
    "    #### Hint: what should be their shape?      ## Like Y_train and Y_test respectively\n",
    "    pred_train = np.zeros((T,len(Y_train) ))         ## predicted classes of the training examples\n",
    "    pred_test = np.zeros((T,len(Y_test) ))          ## predicted classes of the test examples\n",
    "\n",
    "    ## DONE [3]: loop over the boosting iterations \n",
    "    for t in range(T): \n",
    "\n",
    "        # DONE [4]: Fit a classifier with the specific weights \n",
    "        ## DONE [4.A]: fit the classifier on the training data\n",
    "        #### Hint: search how sklearn.tree.DecisionTreeClassifier fits classifier on data\n",
    "        ### Hint: search for parameter weights in the fit matrix\n",
    "        clf = clf.fit(X_train,Y_train, w)\n",
    "        \n",
    "        # DONE [4.B]: predict classes for the training data and test data\n",
    "        pred_train_t = clf.predict(X_train)\n",
    "        pred_test_t = clf.predict(X_test)\n",
    "        \n",
    "        # DONE [5]: calculate the miss Indicator function\n",
    "        I = (pred_train_t != Y_train)             #Assuming Y_test is a numpy array like pred_test_t\n",
    "        \n",
    "        # DONE [6]: calculate the error for the current classifier (err_t)\n",
    "        err_t = np.sum(w * I)/np.sum(w)\n",
    "        \n",
    "        # DONE [7]: calculate current classifier weight (Alpha_t)\n",
    "        alpha_t = np.log((1-err_t)/err_t)\n",
    "        \n",
    "        # DONE [8]: update the weights \n",
    "        w = w * np.exp(alpha_t * I)             # a lot of cool vectorization is going on here.\n",
    "        \n",
    "        # DONE [9] Add to the overall predictions\n",
    "        pred_train[t] = pred_train_t * alpha_t\n",
    "        pred_test[t] = pred_test_t * alpha_t\n",
    "\n",
    "    # Now pred_train is an array of t rows with predictions scaled by alpha as the formula suggested.\n",
    "    # Need to add all these and come up with one row for the classification results\n",
    "    # We will use the voting scheme that relies on the sign since classes are -1 and +1\n",
    "\n",
    "    final_pred_train = np.sum(pred_train, axis=0)\n",
    "    final_pred_test = np.sum(pred_test, axis=0)\n",
    "\n",
    "    # apply the sign function on all of them:\n",
    "    final_pred_train[final_pred_train >= 0], final_pred_train[final_pred_train < 0]= 1, -1\n",
    "    final_pred_test[final_pred_test >= 0], final_pred_test[final_pred_test < 0]= 1, -1\n",
    "\n",
    "\n",
    "    # DONE [10]: Return error rate in train and test set\n",
    "    #### Hint: use function get_accuracy from utils.py\n",
    "    train_acc = get_accuracy(final_pred_train, Y_train )\n",
    "    test_acc = get_accuracy(final_pred_test, Y_test )\n",
    "    print_accuracy(train_acc, test_acc)\n",
    "    return train_acc, test_acc\n",
    "\n"
   ]
  },
  {
   "cell_type": "markdown",
   "metadata": {},
   "source": [
    "### Testing the Boosted Classifier\n",
    "\n",
    "Now we will use the function you implemented to build a classifer.\\\n",
    "You will not change code here, only read the code below and run it to see how **AdaBoost** enhanced the performance."
   ]
  },
  {
   "cell_type": "code",
   "execution_count": 4,
   "metadata": {},
   "outputs": [
    {
     "name": "stdout",
     "output_type": "stream",
     "text": [
      "Reading Data ...\n",
      "Number of Iterations :  10\n",
      "Accuracy: Training: 66.96875% - Test: 66.33333333333333%\n",
      "Number of Iterations :  60\n",
      "Accuracy: Training: 83.11458333333334% - Test: 82.16666666666667%\n",
      "Number of Iterations :  110\n",
      "Accuracy: Training: 86.75% - Test: 84.375%\n",
      "Number of Iterations :  160\n",
      "Accuracy: Training: 88.55208333333333% - Test: 87.04166666666666%\n",
      "Number of Iterations :  210\n",
      "Accuracy: Training: 89.84375% - Test: 88.625%\n",
      "Number of Iterations :  260\n",
      "Accuracy: Training: 90.10416666666666% - Test: 88.0%\n",
      "Number of Iterations :  310\n",
      "Accuracy: Training: 91.75% - Test: 89.83333333333333%\n",
      "Number of Iterations :  360\n",
      "Accuracy: Training: 92.05208333333333% - Test: 90.70833333333333%\n"
     ]
    },
    {
     "name": "stderr",
     "output_type": "stream",
     "text": [
      "/Users/essam/Documents/GitHub/ML-Labs/Lab 5 - AdaBoost Classifier/utils.py:23: UserWarning: FixedFormatter should only be used together with FixedLocator\n",
      "  plot1.set_xticklabels(range(0, 450, 50))\n"
     ]
    },
    {
     "data": {
      "image/png": "[encoded data removed]",
      "text/plain": [
       "<Figure size 576x432 with 1 Axes>"
      ]
     },
     "metadata": {
      "needs_background": "light"
     },
     "output_type": "display_data"
    }
   ],
   "source": [
    "#### DO NOT CHANGE CODE ####\n",
    "\n",
    "## First, read the dataset\n",
    "x,y = make_hastie_10_2()\n",
    "df = pd.DataFrame(x)\n",
    "df['Y'] = y\n",
    "print('Reading Data ...')\n",
    "\n",
    "# Split into training and test set\n",
    "train, test = train_test_split(df, test_size=0.2) # this function shuffles the data points, and splits the data into\n",
    "                                                  # 80% training set and 20% test set (indicated by test_size=0.2)\n",
    "\n",
    "train, test = np.array(train), np.array(test)\n",
    "# For some reason pandas loops on columns when doing list comprehension unless [0] is specified.\n",
    "# Not cool --> switch to Numpy and even get rid of iloc.\n",
    "\n",
    "# print(train.shape) (9600, 11) 10 features and last column is for class\n",
    "# print(train.iloc[1:10, 10])   it takes values -1, 1\n",
    "\n",
    "X_train, Y_train = train[:, :-1], train[:, -1]            # last column should to go to classes (Y_train)\n",
    "X_test, Y_test = test[:, :-1], test[:, -1]                # last column should go to classes (Y_test)\n",
    "\n",
    "# X_Train is now of dimensions (9600, 10) and Y_train is of dimensions (9600,) for test sets its 2400 rows (20%)\n",
    "\n",
    "# Fit a simple decision tree first\n",
    "clf_tree = DecisionTreeClassifier(max_depth=1, random_state=1)      \n",
    "# random_state: a sub-optimal greedy algorithm is repeated a number of times using random selections of features and samples\n",
    "# here we give it a seed of 1 so results are always consistent.\n",
    "# max_depth = 1 means it's always one split. (very week classifier)\n",
    "\n",
    "# Fit Adaboost classifier using a decision tree as base estimator\n",
    "# Test with different number of iterations\n",
    "acc_train, acc_test = [],[]\n",
    "x_range = range(10, 410, 50)\n",
    "for i in x_range:\n",
    "    print('Number of Iterations : ' , i)\n",
    "    acc_i = adaboost_classifier(Y_train, X_train, Y_test, X_test, i, clf_tree)\n",
    "    acc_train.append(acc_i[0])\n",
    "    acc_test.append(acc_i[1])\n",
    "\n",
    "# Compare error rate vs number of iterations\n",
    "plot_accuracy(acc_train, acc_test)"
   ]
  },
  {
   "cell_type": "markdown",
   "metadata": {},
   "source": [
    "### Question 2:\n",
    "Justify why the plot is the way it is (is it increasing or decreasing? why? when does it flattens out?)"
   ]
  },
  {
   "cell_type": "code",
   "execution_count": 5,
   "metadata": {},
   "outputs": [
    {
     "data": {
      "text/plain": [
       "'\\n    Your answer:\\n    It\\'s increasing. There is a drastic decrease in slope starting from 100 iterations.\\n    Going further the slope keeps decreasing until it becomes about 0 starting form 350 iterations.\\n\\n    The accuracy keeps on improving with iterations because in each iteration the classifier learns from its mistakes\\n    in the previous iteration  and is then weighted depending on the new resulting loss it computes (the smaller it is\\n    the larger the weight) hence, accuracy should naturally increase with iterations (every iteration is more learning.)\\n\\n    Now as we can see, at some point it starts to decrease then flatten out which means that there is less to learn\\n    every iteration (at the beginning with 65 percent accuracy it had much to learn.) so its also natural for the \\n    accuracy improvement to slow down as we go. \\n\\n    Side note:\\n    One would assume that more iterations may lead to overfitting (it turns out to be more robust than expected):\\n    \"As shown in L2Boost by Peter Bühlmann, as the number of weak learners (rounds of boosting) increases, \\n    the bias converges exponentially fast while the variance increases by geometrically diminishing magnitudes \\n    which means: It overfits much slower than most of the other methods.\"\\n    https://stats.stackexchange.com/questions/20622/is-adaboost-less-or-more-prone-to-overfitting\\n'"
      ]
     },
     "execution_count": 5,
     "metadata": {},
     "output_type": "execute_result"
    }
   ],
   "source": [
    "'''\n",
    "    Your answer:\n",
    "    It's increasing. There is a drastic decrease in slope starting from 100 iterations.\n",
    "    Going further the slope keeps decreasing until it becomes about 0 starting form 350 iterations.\n",
    "\n",
    "    The accuracy keeps on improving with iterations because in each iteration the classifier learns from its mistakes\n",
    "    in the previous iteration  and is then weighted depending on the new resulting loss it computes (the smaller it is\n",
    "    the larger the weight) hence, accuracy should naturally increase with iterations (every iteration is more learning.)\n",
    "\n",
    "    Now as we can see, at some point it starts to decrease then flatten out which means that there is less to learn\n",
    "    every iteration (at the beginning with 65 percent accuracy it had much to learn.) so its also natural for the \n",
    "    accuracy improvement to slow down as we go. \n",
    "\n",
    "    Side note:\n",
    "    One would assume that more iterations may lead to overfitting (it turns out to be more robust than expected):\n",
    "    \"As shown in L2Boost by Peter Bühlmann, as the number of weak learners (rounds of boosting) increases, \n",
    "    the bias converges exponentially fast while the variance increases by geometrically diminishing magnitudes \n",
    "    which means: It overfits much slower than most of the other methods.\"\n",
    "    https://stats.stackexchange.com/questions/20622/is-adaboost-less-or-more-prone-to-overfitting\n",
    "'''"
   ]
  },
  {
   "cell_type": "markdown",
   "metadata": {},
   "source": [
    "### Question 3\n",
    "\n",
    "The number of iterations (T) is what we call a hyper parameter:\n",
    "   - Its value differs from model to model and from problem to problem.\n",
    "   - Its value is not learnt by time, it is set by the programmer.\n",
    "   \n",
    "Suggest ways to select the optimal T keeping in mind that:\n",
    "   - If T is too big, the training time is large (you loop for T times, each time takes a model to fit and this model might take hours to fit)\n",
    "   - If T is too small, the boosting might not reach the best values it can get.\n",
    "   \n",
    "   \n",
    "\n",
    "**HINT**: Look at the graph of number of iterations vs performance and search for elbow method. Try to understand it and explain what it does.\\\n",
    "**HINT**: There are other hyper-parameter selection techniques, search for them as well."
   ]
  },
  {
   "cell_type": "code",
   "execution_count": 6,
   "metadata": {},
   "outputs": [
    {
     "data": {
      "text/plain": [
       "'\\n    Your answer:\\n    https://stats.stackexchange.com/questions/163560/how-many-adaboost-iterations\\n    \"Mease and Wyner (2008) argue that AdaBoost should be run for a long time, until it converges, \\n    and that 1,000 iterations should be enough.\"\\n    So assuming speed is not issue we can run it a large number of iterations without worrying (e.g. 1K as by Mease et al)    \\n    \\n    The elbow method is often used to select the number of clusters in k-means, we keep watching the loss function\\n    as it decreases with the number of clusters and stop at the \\'elbow of the curve\\'. We can apply the same huerstic\\n    to find the number of iterations here. The only different is the the elbow here is more like a \\'knee\\' (since \\n    we\\'re plotting accuracy.) stopping there makes sense because we don\\'t get so much from continuing and we make\\n    the model (even if its a special case here) more susceptible to overfitting all while paying the same amount\\n    of resources (computationa and time.)\\n'"
      ]
     },
     "execution_count": 6,
     "metadata": {},
     "output_type": "execute_result"
    }
   ],
   "source": [
    "'''\n",
    "    Your answer:\n",
    "    https://stats.stackexchange.com/questions/163560/how-many-adaboost-iterations\n",
    "    \"Mease and Wyner (2008) argue that AdaBoost should be run for a long time, until it converges, \n",
    "    and that 1,000 iterations should be enough.\"\n",
    "    So assuming speed is not issue we can run it a large number of iterations without worrying (e.g. 1K as by Mease et al)    \n",
    "    \n",
    "    The elbow method is often used to select the number of clusters in k-means, we keep watching the loss function\n",
    "    as it decreases with the number of clusters and stop at the 'elbow of the curve' (knee here). We can apply the same huerstic\n",
    "    to find the number of iterations here.  Stopping there makes sense because we don't get so much from continuing and we make\n",
    "    the model (even if its a special case here) more susceptible to overfitting all while paying the same amount\n",
    "    of resources (computationa and time.)\n",
    "'''"
   ]
  }
 ],
 "metadata": {
  "interpreter": {
   "hash": "40d3a090f54c6569ab1632332b64b2c03c39dcf918b08424e98f38b5ae0af88f"
  },
  "kernelspec": {
   "display_name": "Python 3.8.8 ('base')",
   "language": "python",
   "name": "python3"
  },
  "language_info": {
   "codemirror_mode": {
    "name": "ipython",
    "version": 3
   },
   "file_extension": ".py",
   "mimetype": "text/x-python",
   "name": "python",
   "nbconvert_exporter": "python",
   "pygments_lexer": "ipython3",
   "version": "3.8.8"
  }
 },
 "nbformat": 4,
 "nbformat_minor": 4
}
